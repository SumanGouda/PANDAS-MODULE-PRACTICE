{
 "cells": [
  {
   "cell_type": "code",
   "execution_count": 1,
   "id": "9c5da193",
   "metadata": {},
   "outputs": [],
   "source": [
    "import pandas as pd\n",
    "import numpy as np\n",
    "df = pd.read_csv(r\"D:\\PYTON PROGRAMMING\\PYTHON FILES\\PANDAS\\PANDAS-MODULE-PRACTICE\\NETFLIX DATA ANALYSIS\\netflix_titles.csv\")"
   ]
  },
  {
   "cell_type": "markdown",
   "id": "96e81363",
   "metadata": {},
   "source": [
    "# Basic Pandas Practice Questions – Netflix Dataset (Set 1)"
   ]
  },
  {
   "cell_type": "code",
   "execution_count": null,
   "id": "6840bafd",
   "metadata": {},
   "outputs": [],
   "source": [
    "print(df.head(5),\"\\n\")\n",
    "print(df.shape,\"\\n\")\n",
    "print(df.columns)"
   ]
  },
  {
   "cell_type": "markdown",
   "id": "cf572dd1",
   "metadata": {},
   "source": [
    "## Data cleaning And Inspection"
   ]
  },
  {
   "cell_type": "markdown",
   "id": "ab64b922",
   "metadata": {},
   "source": [
    "--> Count how many rows and columns are there in the dataset."
   ]
  },
  {
   "cell_type": "code",
   "execution_count": null,
   "id": "7c554d37",
   "metadata": {},
   "outputs": [],
   "source": [
    "rows = df.shape[0]   # Calculate the number of rows.\n",
    "columns = df.shape[1]   # Calculate the number of columns.\n",
    "\n",
    "print(rows)\n",
    "print(columns)"
   ]
  },
  {
   "cell_type": "markdown",
   "id": "696b5377",
   "metadata": {},
   "source": [
    "--> Are there any missing values? If so, in which columns and how many?"
   ]
  },
  {
   "cell_type": "code",
   "execution_count": null,
   "id": "7a1cde80",
   "metadata": {},
   "outputs": [],
   "source": [
    "values = df.isnull().sum()\n",
    "print(values)"
   ]
  },
  {
   "cell_type": "markdown",
   "id": "8530f10c",
   "metadata": {},
   "source": [
    "--> Drop all rows with missing values and store in a new DataFrame."
   ]
  },
  {
   "cell_type": "code",
   "execution_count": 24,
   "id": "5e7267ba",
   "metadata": {},
   "outputs": [],
   "source": [
    "cleaned_df = df.dropna()"
   ]
  },
  {
   "cell_type": "markdown",
   "id": "2e5d7d62",
   "metadata": {},
   "source": [
    "--> What are the data types of each column?"
   ]
  },
  {
   "cell_type": "code",
   "execution_count": null,
   "id": "4febe7c8",
   "metadata": {},
   "outputs": [],
   "source": [
    "types = cleaned_df.columns\n",
    "print(types.dtype)"
   ]
  },
  {
   "cell_type": "markdown",
   "id": "7dd0eb2a",
   "metadata": {},
   "source": [
    "-->  Convert the date_added column to datetime."
   ]
  },
  {
   "cell_type": "code",
   "execution_count": 12,
   "id": "988be9dd",
   "metadata": {},
   "outputs": [],
   "source": [
    "df = df.rename(columns = {'date_added':'datetime'},inplace=True)"
   ]
  },
  {
   "cell_type": "markdown",
   "id": "2bf73d06",
   "metadata": {},
   "source": [
    "## Exploratory Data Analysis (EDA)"
   ]
  },
  {
   "cell_type": "markdown",
   "id": "c9490c79",
   "metadata": {},
   "source": [
    "--> How many unique types (e.g., Movie, TV Show) are there? Count them."
   ]
  },
  {
   "cell_type": "code",
   "execution_count": null,
   "id": "05027244",
   "metadata": {},
   "outputs": [],
   "source": [
    "df.groupby(\"type\").size()"
   ]
  },
  {
   "cell_type": "markdown",
   "id": "dc869f48",
   "metadata": {},
   "source": [
    "--> What is the most common genre (listed_in)?"
   ]
  },
  {
   "cell_type": "code",
   "execution_count": null,
   "id": "a7db1ea9",
   "metadata": {},
   "outputs": [],
   "source": [
    "value_counts = df['listed_in'].value_counts()\n",
    "most_common = value_counts.idxmax()\n",
    "most_common"
   ]
  },
  {
   "cell_type": "markdown",
   "id": "98eb9da8",
   "metadata": {},
   "source": [
    "--> How many titles were added each year?"
   ]
  },
  {
   "cell_type": "code",
   "execution_count": null,
   "id": "a015fd0a",
   "metadata": {},
   "outputs": [],
   "source": [
    "count = df.groupby('release_year')['title'].count()\n",
    "sorted_count = count.sort_values(ascending=0)\n",
    "sorted_count"
   ]
  },
  {
   "cell_type": "markdown",
   "id": "583f1705",
   "metadata": {},
   "source": [
    "--> Find the top 10 countries by the number of titles produced."
   ]
  },
  {
   "cell_type": "code",
   "execution_count": null,
   "id": "bdf0307f",
   "metadata": {},
   "outputs": [],
   "source": [
    "top = df['country'].value_counts()  # It returns a Series\n",
    "top.head(3)"
   ]
  },
  {
   "cell_type": "markdown",
   "id": "2c533117",
   "metadata": {},
   "source": [
    "--> Show a table of total Movie vs TV Show count per country."
   ]
  },
  {
   "cell_type": "code",
   "execution_count": null,
   "id": "276f4a59",
   "metadata": {},
   "outputs": [],
   "source": [
    "country_content = df.groupby(['country', 'type']).size().unstack(fill_value=0).sort_index(key=lambda x: x.str.lower())\n",
    "country_content"
   ]
  },
  {
   "cell_type": "markdown",
   "id": "58627672",
   "metadata": {},
   "source": [
    "## Filtering and selection"
   ]
  },
  {
   "cell_type": "markdown",
   "id": "64bbaee5",
   "metadata": {},
   "source": [
    "--> List of movies released in 2020."
   ]
  },
  {
   "cell_type": "code",
   "execution_count": null,
   "id": "05c48898",
   "metadata": {},
   "outputs": [],
   "source": [
    "mov_2020 = df[(df['type'] == 'Movie') & (df['release_year'] == 2020)]\n",
    "mov_2020.reset_index(inplace=True)\n",
    "mov_2020['title']"
   ]
  },
  {
   "cell_type": "markdown",
   "id": "15e6c8ba",
   "metadata": {},
   "source": [
    "--> Find all titles that have the word “Love” in their title."
   ]
  },
  {
   "cell_type": "code",
   "execution_count": null,
   "id": "41173812",
   "metadata": {},
   "outputs": [],
   "source": [
    "title = df[df['title'].str.contains('Love', case = False, na=False)]['title']\n",
    "title"
   ]
  },
  {
   "cell_type": "markdown",
   "id": "9f7b4442",
   "metadata": {},
   "source": [
    "--> List all TV Shows produced in India."
   ]
  },
  {
   "cell_type": "code",
   "execution_count": null,
   "id": "c2fe3698",
   "metadata": {},
   "outputs": [],
   "source": [
    "tv_ind = df[(df['type'] == 'TV Show') & (df['country'] == 'India')]['title']\n",
    "tv_ind"
   ]
  },
  {
   "cell_type": "markdown",
   "id": "4da83d91",
   "metadata": {},
   "source": [
    "--> Find entries with duration more than 100 minutes (Hint: strip 'min' and convert to int)."
   ]
  },
  {
   "cell_type": "code",
   "execution_count": null,
   "id": "945daae7",
   "metadata": {},
   "outputs": [],
   "source": [
    "movies = df[ df['type'] == 'Movie']\n",
    "extracted_numbers = movies['duration'].str.extract(r'(\\d+)', expand=False)\n",
    "duration = pd.to_numeric(extracted_numbers, errors='coerce')"
   ]
  },
  {
   "cell_type": "markdown",
   "id": "50c96bcb",
   "metadata": {},
   "source": [
    "1. When expand=False, the function returns:\n",
    "\n",
    "2. A Series if the regex has only one capturing group ( ).\n",
    "\n",
    "3. A DataFrame if the regex has multiple capturing groups ( ) ( )."
   ]
  },
  {
   "cell_type": "markdown",
   "id": "9abc7908",
   "metadata": {},
   "source": [
    "--> Display all titles where rating is \"TV-MA\" and type is \"Movie\"."
   ]
  },
  {
   "cell_type": "code",
   "execution_count": null,
   "id": "b981bba1",
   "metadata": {},
   "outputs": [],
   "source": [
    "tv_ma_rat = df[(df['type'] == 'Movie') & (df['rating'] == 'TV-MA')]['title']\n",
    "tv_ma_rat"
   ]
  },
  {
   "cell_type": "markdown",
   "id": "19145a2c",
   "metadata": {},
   "source": [
    "## Aggregations & GroupBy"
   ]
  },
  {
   "cell_type": "markdown",
   "id": "5e8633e8",
   "metadata": {},
   "source": [
    "--> Group titles by release year and show the count."
   ]
  },
  {
   "cell_type": "code",
   "execution_count": null,
   "id": "7a52008e",
   "metadata": {},
   "outputs": [],
   "source": [
    "relese_year = df.groupby('release_year')['title']\n",
    "count = relese_year.size()\n",
    "count"
   ]
  },
  {
   "cell_type": "markdown",
   "id": "5b04a313",
   "metadata": {},
   "source": [
    "--> Find the average duration of movies in minutes."
   ]
  },
  {
   "cell_type": "code",
   "execution_count": null,
   "id": "e6a2ed10",
   "metadata": {},
   "outputs": [],
   "source": [
    "movies = df[ df['type'] == 'Movie']\n",
    "extracted_numbers = movies['duration'].str.extract(r'(\\d+)', expand=False)\n",
    "duration = pd.to_numeric(extracted_numbers, errors='coerce')\n",
    "\n",
    "avg = duration.agg('mean')\n",
    "print(f\"{avg:.2f} mins\")"
   ]
  },
  {
   "cell_type": "markdown",
   "id": "fc256346",
   "metadata": {},
   "source": [
    "--> Group by type and show the average number of cast members per title (Hint: use .str.split(',') and count length)."
   ]
  },
  {
   "cell_type": "code",
   "execution_count": null,
   "id": "448b5f06",
   "metadata": {},
   "outputs": [],
   "source": [
    "df['cast_split'] = df['cast'].str.split(',').str.len().fillna(0)\n",
    "avg_cast = df.groupby('type')['cast_split'].mean().round(2)\n",
    "avg_cast"
   ]
  },
  {
   "cell_type": "markdown",
   "id": "0c713cfa",
   "metadata": {},
   "source": [
    "## Column Operation "
   ]
  },
  {
   "cell_type": "markdown",
   "id": "b11bef36",
   "metadata": {},
   "source": [
    "--> Create a new column called decade (e.g., 1990s, 2000s, etc.) based on release_year."
   ]
  },
  {
   "cell_type": "code",
   "execution_count": null,
   "id": "23c9b140",
   "metadata": {},
   "outputs": [],
   "source": [
    "df['decade'] = df['release_year'].apply(lambda x: f\"{str(x)[:3]}0s\")\n",
    "df"
   ]
  },
  {
   "cell_type": "markdown",
   "id": "998d4add",
   "metadata": {},
   "source": [
    "--> Create a column title_length that shows the number of characters in the title."
   ]
  },
  {
   "cell_type": "code",
   "execution_count": null,
   "id": "bd9ed185",
   "metadata": {},
   "outputs": [],
   "source": [
    "df['title_length'] = df['title'].apply(lambda x : f\"{len(str(x))}\")\n",
    "df"
   ]
  },
  {
   "cell_type": "markdown",
   "id": "e8d2ad14",
   "metadata": {},
   "source": [
    "--> Extract the first genre from listed_in into a new column."
   ]
  },
  {
   "cell_type": "code",
   "execution_count": null,
   "id": "7ef0e7df",
   "metadata": {},
   "outputs": [],
   "source": [
    "df['first_genre'] = df['listed_in'].str.split(',').str[0]\n",
    "df"
   ]
  },
  {
   "cell_type": "markdown",
   "id": "91a7b2fc",
   "metadata": {},
   "source": [
    "--> What percentage of titles are produced by more than one country?"
   ]
  },
  {
   "cell_type": "code",
   "execution_count": null,
   "id": "c1592466",
   "metadata": {},
   "outputs": [],
   "source": [
    "multi_country = df['country'].dropna().str.contains(',')\n",
    "percentage = (multi_country.sum() / df['country'].dropna().shape[0]) * 100\n",
    "print(f\"{percentage:.2f}% of titles are produced by more than one country.\")"
   ]
  },
  {
   "cell_type": "markdown",
   "id": "14178c3b",
   "metadata": {},
   "source": [
    "--> Create a frequency table of top 10 directors."
   ]
  },
  {
   "cell_type": "code",
   "execution_count": null,
   "id": "56afdbde",
   "metadata": {},
   "outputs": [],
   "source": [
    "df_cleaned = df.dropna(subset=['director'])\n",
    "grouped = df_cleaned.groupby(['director', 'type']).size()\n",
    "table = grouped.unstack(fill_value=0)\n",
    "table['total'] = table.sum(axis=1)\n",
    "top_directors = table.sort_values(by='total', ascending=False).head(10)\n",
    "\n",
    "top_directors"
   ]
  },
  {
   "cell_type": "markdown",
   "id": "91c126d3",
   "metadata": {},
   "source": [
    "--> Use value_counts() to find the most common duration for TV Shows."
   ]
  },
  {
   "cell_type": "code",
   "execution_count": null,
   "id": "346fe43c",
   "metadata": {},
   "outputs": [],
   "source": [
    "tv_shows = df[df['type'] == 'TV Show']\n",
    "duration = tv_shows['duration']\n",
    "common = duration.value_counts().idxmax()\n",
    "print(f\"The most common duration for a TV Show is {common}.\")"
   ]
  },
  {
   "cell_type": "markdown",
   "id": "03aa8126",
   "metadata": {},
   "source": [
    "# Advanced Pandas Practice Questions – Netflix Dataset (Set 2)"
   ]
  },
  {
   "cell_type": "markdown",
   "id": "8b49447a",
   "metadata": {},
   "source": [
    "#"
   ]
  },
  {
   "cell_type": "markdown",
   "id": "f5fa8a23",
   "metadata": {},
   "source": [
    "## Filtering & Conditions"
   ]
  },
  {
   "cell_type": "markdown",
   "id": "67f9ffe1",
   "metadata": {},
   "source": [
    "--> Find all movies released in 2020 with a duration longer than 90 minutes."
   ]
  },
  {
   "cell_type": "code",
   "execution_count": null,
   "id": "61ae2c1b",
   "metadata": {},
   "outputs": [],
   "source": [
    "movies = df[(df['type'] == 'Movie') & (df['release_year'] == 2020) & (df['duration'] > 90)]"
   ]
  },
  {
   "cell_type": "markdown",
   "id": "41bbd884",
   "metadata": {},
   "source": [
    "--> List all entries where the country field is missing."
   ]
  },
  {
   "cell_type": "code",
   "execution_count": null,
   "id": "d46c3fcf",
   "metadata": {},
   "outputs": [],
   "source": []
  },
  {
   "cell_type": "markdown",
   "id": "8a5d8391",
   "metadata": {},
   "source": [
    "## Using Numpy"
   ]
  },
  {
   "cell_type": "markdown",
   "id": "4e989d60",
   "metadata": {},
   "source": [
    "--> Use NumPy to count how many entries have missing director info."
   ]
  },
  {
   "cell_type": "code",
   "execution_count": 53,
   "id": "791baf8b",
   "metadata": {},
   "outputs": [
    {
     "ename": "TypeError",
     "evalue": "ufunc 'isnan' not supported for the input types, and the inputs could not be safely coerced to any supported types according to the casting rule ''safe''",
     "output_type": "error",
     "traceback": [
      "\u001b[31m---------------------------------------------------------------------------\u001b[39m",
      "\u001b[31mTypeError\u001b[39m                                 Traceback (most recent call last)",
      "\u001b[36mCell\u001b[39m\u001b[36m \u001b[39m\u001b[32mIn[53]\u001b[39m\u001b[32m, line 2\u001b[39m\n\u001b[32m      1\u001b[39m arr = df.to_numpy()\n\u001b[32m----> \u001b[39m\u001b[32m2\u001b[39m \u001b[38;5;28mprint\u001b[39m(\u001b[43mnp\u001b[49m\u001b[43m.\u001b[49m\u001b[43misnan\u001b[49m\u001b[43m(\u001b[49m\u001b[43marr\u001b[49m\u001b[43m)\u001b[49m)\n",
      "\u001b[31mTypeError\u001b[39m: ufunc 'isnan' not supported for the input types, and the inputs could not be safely coerced to any supported types according to the casting rule ''safe''"
     ]
    }
   ],
   "source": [
    "arr = df.to_numpy()\n",
    "print(np.isnan(arr))"
   ]
  },
  {
   "cell_type": "code",
   "execution_count": 22,
   "id": "2196375a",
   "metadata": {},
   "outputs": [
    {
     "data": {
      "text/html": [
       "<div>\n",
       "<style scoped>\n",
       "    .dataframe tbody tr th:only-of-type {\n",
       "        vertical-align: middle;\n",
       "    }\n",
       "\n",
       "    .dataframe tbody tr th {\n",
       "        vertical-align: top;\n",
       "    }\n",
       "\n",
       "    .dataframe thead th {\n",
       "        text-align: right;\n",
       "    }\n",
       "</style>\n",
       "<table border=\"1\" class=\"dataframe\">\n",
       "  <thead>\n",
       "    <tr style=\"text-align: right;\">\n",
       "      <th></th>\n",
       "      <th>show_id</th>\n",
       "      <th>type</th>\n",
       "      <th>title</th>\n",
       "      <th>director</th>\n",
       "      <th>cast</th>\n",
       "      <th>country</th>\n",
       "      <th>date_added</th>\n",
       "      <th>release_year</th>\n",
       "      <th>rating</th>\n",
       "      <th>duration</th>\n",
       "      <th>listed_in</th>\n",
       "      <th>description</th>\n",
       "    </tr>\n",
       "  </thead>\n",
       "  <tbody>\n",
       "    <tr>\n",
       "      <th>0</th>\n",
       "      <td>s1</td>\n",
       "      <td>Movie</td>\n",
       "      <td>Dick Johnson Is Dead</td>\n",
       "      <td>Kirsten Johnson</td>\n",
       "      <td>NaN</td>\n",
       "      <td>United States</td>\n",
       "      <td>September 25, 2021</td>\n",
       "      <td>2020</td>\n",
       "      <td>PG-13</td>\n",
       "      <td>90 min</td>\n",
       "      <td>Documentaries</td>\n",
       "      <td>As her father nears the end of his life, filmm...</td>\n",
       "    </tr>\n",
       "    <tr>\n",
       "      <th>1</th>\n",
       "      <td>s2</td>\n",
       "      <td>TV Show</td>\n",
       "      <td>Blood &amp; Water</td>\n",
       "      <td>NaN</td>\n",
       "      <td>Ama Qamata, Khosi Ngema, Gail Mabalane, Thaban...</td>\n",
       "      <td>South Africa</td>\n",
       "      <td>September 24, 2021</td>\n",
       "      <td>2021</td>\n",
       "      <td>TV-MA</td>\n",
       "      <td>2 Seasons</td>\n",
       "      <td>International TV Shows, TV Dramas, TV Mysteries</td>\n",
       "      <td>After crossing paths at a party, a Cape Town t...</td>\n",
       "    </tr>\n",
       "    <tr>\n",
       "      <th>2</th>\n",
       "      <td>s3</td>\n",
       "      <td>TV Show</td>\n",
       "      <td>Ganglands</td>\n",
       "      <td>Julien Leclercq</td>\n",
       "      <td>Sami Bouajila, Tracy Gotoas, Samuel Jouy, Nabi...</td>\n",
       "      <td>NaN</td>\n",
       "      <td>September 24, 2021</td>\n",
       "      <td>2021</td>\n",
       "      <td>TV-MA</td>\n",
       "      <td>1 Season</td>\n",
       "      <td>Crime TV Shows, International TV Shows, TV Act...</td>\n",
       "      <td>To protect his family from a powerful drug lor...</td>\n",
       "    </tr>\n",
       "    <tr>\n",
       "      <th>3</th>\n",
       "      <td>s4</td>\n",
       "      <td>TV Show</td>\n",
       "      <td>Jailbirds New Orleans</td>\n",
       "      <td>NaN</td>\n",
       "      <td>NaN</td>\n",
       "      <td>NaN</td>\n",
       "      <td>September 24, 2021</td>\n",
       "      <td>2021</td>\n",
       "      <td>TV-MA</td>\n",
       "      <td>1 Season</td>\n",
       "      <td>Docuseries, Reality TV</td>\n",
       "      <td>Feuds, flirtations and toilet talk go down amo...</td>\n",
       "    </tr>\n",
       "    <tr>\n",
       "      <th>4</th>\n",
       "      <td>s5</td>\n",
       "      <td>TV Show</td>\n",
       "      <td>Kota Factory</td>\n",
       "      <td>NaN</td>\n",
       "      <td>Mayur More, Jitendra Kumar, Ranjan Raj, Alam K...</td>\n",
       "      <td>India</td>\n",
       "      <td>September 24, 2021</td>\n",
       "      <td>2021</td>\n",
       "      <td>TV-MA</td>\n",
       "      <td>2 Seasons</td>\n",
       "      <td>International TV Shows, Romantic TV Shows, TV ...</td>\n",
       "      <td>In a city of coaching centers known to train I...</td>\n",
       "    </tr>\n",
       "  </tbody>\n",
       "</table>\n",
       "</div>"
      ],
      "text/plain": [
       "  show_id     type                  title         director  \\\n",
       "0      s1    Movie   Dick Johnson Is Dead  Kirsten Johnson   \n",
       "1      s2  TV Show          Blood & Water              NaN   \n",
       "2      s3  TV Show              Ganglands  Julien Leclercq   \n",
       "3      s4  TV Show  Jailbirds New Orleans              NaN   \n",
       "4      s5  TV Show           Kota Factory              NaN   \n",
       "\n",
       "                                                cast        country  \\\n",
       "0                                                NaN  United States   \n",
       "1  Ama Qamata, Khosi Ngema, Gail Mabalane, Thaban...   South Africa   \n",
       "2  Sami Bouajila, Tracy Gotoas, Samuel Jouy, Nabi...            NaN   \n",
       "3                                                NaN            NaN   \n",
       "4  Mayur More, Jitendra Kumar, Ranjan Raj, Alam K...          India   \n",
       "\n",
       "           date_added  release_year rating   duration  \\\n",
       "0  September 25, 2021          2020  PG-13     90 min   \n",
       "1  September 24, 2021          2021  TV-MA  2 Seasons   \n",
       "2  September 24, 2021          2021  TV-MA   1 Season   \n",
       "3  September 24, 2021          2021  TV-MA   1 Season   \n",
       "4  September 24, 2021          2021  TV-MA  2 Seasons   \n",
       "\n",
       "                                           listed_in  \\\n",
       "0                                      Documentaries   \n",
       "1    International TV Shows, TV Dramas, TV Mysteries   \n",
       "2  Crime TV Shows, International TV Shows, TV Act...   \n",
       "3                             Docuseries, Reality TV   \n",
       "4  International TV Shows, Romantic TV Shows, TV ...   \n",
       "\n",
       "                                         description  \n",
       "0  As her father nears the end of his life, filmm...  \n",
       "1  After crossing paths at a party, a Cape Town t...  \n",
       "2  To protect his family from a powerful drug lor...  \n",
       "3  Feuds, flirtations and toilet talk go down amo...  \n",
       "4  In a city of coaching centers known to train I...  "
      ]
     },
     "execution_count": 22,
     "metadata": {},
     "output_type": "execute_result"
    }
   ],
   "source": [
    "df.head()"
   ]
  },
  {
   "cell_type": "markdown",
   "id": "5aa616be",
   "metadata": {},
   "source": [
    "## Filling the null values in the dataframe."
   ]
  },
  {
   "cell_type": "code",
   "execution_count": 43,
   "id": "26fedf64",
   "metadata": {},
   "outputs": [
    {
     "ename": "AttributeError",
     "evalue": "'NoneType' object has no attribute 'fillna'",
     "output_type": "error",
     "traceback": [
      "\u001b[31m---------------------------------------------------------------------------\u001b[39m",
      "\u001b[31mAttributeError\u001b[39m                            Traceback (most recent call last)",
      "\u001b[36mCell\u001b[39m\u001b[36m \u001b[39m\u001b[32mIn[43]\u001b[39m\u001b[32m, line 1\u001b[39m\n\u001b[32m----> \u001b[39m\u001b[32m1\u001b[39m \u001b[43mdf\u001b[49m\u001b[43m.\u001b[49m\u001b[43mfillna\u001b[49m(\u001b[33m'\u001b[39m\u001b[33mUnknown\u001b[39m\u001b[33m'\u001b[39m,inplace=\u001b[38;5;28;01mTrue\u001b[39;00m)    \u001b[38;5;66;03m#This will fill the all the empty cell with Unknown.\u001b[39;00m\n\u001b[32m      3\u001b[39m     \u001b[38;5;66;03m#df['Director'].fillna(\"Unknow\")    #This will only fill Unknown at the empty cells of Director column.\u001b[39;00m\n\u001b[32m      4\u001b[39m     \u001b[38;5;66;03m#df.loc['row_index'].fillna(\"Unknown\")  #This will fill the Unknown value at a perticular row in that Dataframe.\u001b[39;00m\n\u001b[32m      5\u001b[39m \n\u001b[32m   (...)\u001b[39m\u001b[32m      8\u001b[39m \t\u001b[38;5;66;03m# ® df.fillna(method = 'pad' , axis = 1)  #This will fill the null cell with the value just left to that cell.\u001b[39;00m\n\u001b[32m      9\u001b[39m \t\u001b[38;5;66;03m# ® df.fillna(method = 'bfill' , axis = 1) #this will fill the null cell with the value just right to the cell.\u001b[39;00m\n",
      "\u001b[31mAttributeError\u001b[39m: 'NoneType' object has no attribute 'fillna'"
     ]
    }
   ],
   "source": [
    "df.fillna('Unknown',inplace=True)    #This will fill the all the empty cell with Unknown.\n",
    "    \n",
    "    #df['Director'].fillna(\"Unknow\")    #This will only fill Unknown at the empty cells of Director column.\n",
    "    #df.loc['row_index'].fillna(\"Unknown\")  #This will fill the Unknown value at a perticular row in that Dataframe.\n",
    "    \n",
    "    # ® df.fillna(method = 'pad')  #This will fill the null cell with the value just above of that cell.\n",
    "\t# ® df.fillna(method = 'bfill') #this will fill the null cell with the value just below the cell.\n",
    "\t# ® df.fillna(method = 'pad' , axis = 1)  #This will fill the null cell with the value just left to that cell.\n",
    "\t# ® df.fillna(method = 'bfill' , axis = 1) #this will fill the null cell with the value just right to the cell.\n"
   ]
  },
  {
   "cell_type": "markdown",
   "id": "fc74156b",
   "metadata": {},
   "source": [
    "## Returns the number of releases of different types on Netflix."
   ]
  },
  {
   "cell_type": "code",
   "execution_count": null,
   "id": "ea0b5e4d",
   "metadata": {},
   "outputs": [],
   "source": [
    "df.groupby('type').size()"
   ]
  },
  {
   "cell_type": "markdown",
   "id": "44d0f793",
   "metadata": {},
   "source": [
    "## Count number of shows starting with a perticular letter."
   ]
  },
  {
   "cell_type": "code",
   "execution_count": null,
   "id": "720ba2cf",
   "metadata": {},
   "outputs": [],
   "source": [
    "start_with = df[df['title'].str.startswith('A')].shape[0]   #Returns the total TV Shows and Movies starts with letter A.\n",
    "\n",
    "#df[(df['type'] == 'TV Show') & (df['title'].str.startswith('A'))].shape[0]     # Returns the number of TV Shows that starts with letter A."
   ]
  },
  {
   "cell_type": "markdown",
   "id": "f16576f7",
   "metadata": {},
   "source": [
    "## Counts the number of movies released each year."
   ]
  },
  {
   "cell_type": "code",
   "execution_count": null,
   "id": "76ea5969",
   "metadata": {},
   "outputs": [],
   "source": [
    "per_yr = df[df['type'] == 'Movie'].groupby('release_year')['title'].count()"
   ]
  },
  {
   "cell_type": "markdown",
   "id": "f7be555a",
   "metadata": {},
   "source": [
    "## Count the movies produced by a director."
   ]
  },
  {
   "cell_type": "code",
   "execution_count": null,
   "id": "a86358cf",
   "metadata": {},
   "outputs": [],
   "source": [
    "director = df[ (df['type'] == 'Movie') & (df['director'] == 'Kirsten Johnson') & (df['release_year'] == 2020)].shape[0]"
   ]
  },
  {
   "cell_type": "markdown",
   "id": "d6d817ba",
   "metadata": {},
   "source": [
    "## Count the TV shows & Movies produced after 2005. "
   ]
  },
  {
   "cell_type": "code",
   "execution_count": 10,
   "id": "e40f4546",
   "metadata": {},
   "outputs": [],
   "source": [
    "after_05 = df[ (df['release_year'] > 2005) ].shape[0]\n",
    "\n",
    "# na_after_05 = df[ (df['release_year'] > 2005) ]\n",
    "# na_after_05           #This will return all the rows and columns satisfying the above condition."
   ]
  },
  {
   "cell_type": "markdown",
   "id": "f02bd5c5",
   "metadata": {},
   "source": [
    "## Count the number of movies released between 2019 to 2021."
   ]
  },
  {
   "cell_type": "code",
   "execution_count": null,
   "id": "7eb91b47",
   "metadata": {},
   "outputs": [],
   "source": [
    "bet_19_21 = df[ (df['type'] == 'Movie') & ((df['release_year'] >= 2019) & (df['release_year'] <= 2021)) ].shape[0]\n",
    "bet_19_21\n",
    "\n",
    "# na_bet_19_21 = df[ (df['type'] == 'Movie') & ((df['release_year'] >= 2019) & (df['release_year'] <= 2021)) ]\n",
    "# na_bet_19_21              #This will return all the rows and columns satisfying the above condition."
   ]
  },
  {
   "cell_type": "markdown",
   "id": "23a24459",
   "metadata": {},
   "source": [
    "## Calculate the average release periode on netlix in between 2010 to 2020. "
   ]
  },
  {
   "cell_type": "code",
   "execution_count": 24,
   "id": "0f6d52b0",
   "metadata": {},
   "outputs": [
    {
     "data": {
      "text/plain": [
       "Timedelta('0 days 12:21:58.900915903')"
      ]
     },
     "execution_count": 24,
     "metadata": {},
     "output_type": "execute_result"
    }
   ],
   "source": [
    "df['date_added'] = pd.to_datetime(df['date_added'], errors='coerce')     # errors='coerce' This skips those cells which is not valid date format.\n",
    "df = df[df['date_added'].dt.year.between(2010,2020)]\n",
    "df = df.sort_values(by='date_added')\n",
    "df['gap'] = df['date_added'].diff()     #This will create a new column gap, where the gap between movie of that row to the movie of row just above, is stored.\n",
    "avg = df['gap'].mean()\n",
    "avg"
   ]
  },
  {
   "cell_type": "code",
   "execution_count": 20,
   "id": "a9c9849a",
   "metadata": {},
   "outputs": [
    {
     "name": "stdout",
     "output_type": "stream",
     "text": [
      "Average release time gap: 0 days, 12 hours, 21 minutes, 58 seconds\n"
     ]
    }
   ],
   "source": [
    "days = avg.days\n",
    "seconds = avg.seconds\n",
    "microseconds = avg.microseconds\n",
    "\n",
    "hours = seconds // 3600\n",
    "minutes = (seconds % 3600) // 60\n",
    "seconds_remainder = seconds % 60\n",
    "print(f\"Average release time gap: {days} days, {hours} hours, {minutes} minutes, {seconds_remainder} seconds\")"
   ]
  },
  {
   "cell_type": "markdown",
   "id": "800bfccb",
   "metadata": {},
   "source": [
    "## Find which director produced most shows on netfix."
   ]
  },
  {
   "cell_type": "code",
   "execution_count": null,
   "id": "945fb2f8",
   "metadata": {},
   "outputs": [],
   "source": [
    "a = df.groupby('director')['type'].value_counts().sort_values(ascending=0)"
   ]
  },
  {
   "cell_type": "code",
   "execution_count": null,
   "id": "a581ffa6",
   "metadata": {},
   "outputs": [],
   "source": []
  },
  {
   "cell_type": "code",
   "execution_count": null,
   "id": "a008d46c",
   "metadata": {},
   "outputs": [],
   "source": []
  }
 ],
 "metadata": {
  "kernelspec": {
   "display_name": "Python 3",
   "language": "python",
   "name": "python3"
  },
  "language_info": {
   "codemirror_mode": {
    "name": "ipython",
    "version": 3
   },
   "file_extension": ".py",
   "mimetype": "text/x-python",
   "name": "python",
   "nbconvert_exporter": "python",
   "pygments_lexer": "ipython3",
   "version": "3.11.9"
  }
 },
 "nbformat": 4,
 "nbformat_minor": 5
}
