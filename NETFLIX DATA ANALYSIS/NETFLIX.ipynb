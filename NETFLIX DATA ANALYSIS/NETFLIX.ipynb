{
 "cells": [
  {
   "cell_type": "code",
   "execution_count": 22,
   "id": "9c5da193",
   "metadata": {},
   "outputs": [],
   "source": [
    "import pandas as pd\n",
    "df = pd.read_csv(r\"D:\\PYTON PROGRAMMING\\PYTHON FILES\\PANDAS\\PANDAS-MODULE-PRACTICE\\NETFLIX DATA ANALYSIS\\netflix_titles.csv\")"
   ]
  },
  {
   "cell_type": "code",
   "execution_count": 62,
   "id": "6840bafd",
   "metadata": {},
   "outputs": [
    {
     "data": {
      "text/html": [
       "<div>\n",
       "<style scoped>\n",
       "    .dataframe tbody tr th:only-of-type {\n",
       "        vertical-align: middle;\n",
       "    }\n",
       "\n",
       "    .dataframe tbody tr th {\n",
       "        vertical-align: top;\n",
       "    }\n",
       "\n",
       "    .dataframe thead th {\n",
       "        text-align: right;\n",
       "    }\n",
       "</style>\n",
       "<table border=\"1\" class=\"dataframe\">\n",
       "  <thead>\n",
       "    <tr style=\"text-align: right;\">\n",
       "      <th></th>\n",
       "      <th>show_id</th>\n",
       "      <th>type</th>\n",
       "      <th>title</th>\n",
       "      <th>director</th>\n",
       "      <th>cast</th>\n",
       "      <th>country</th>\n",
       "      <th>date_added</th>\n",
       "      <th>release_year</th>\n",
       "      <th>rating</th>\n",
       "      <th>duration</th>\n",
       "      <th>listed_in</th>\n",
       "      <th>description</th>\n",
       "    </tr>\n",
       "  </thead>\n",
       "  <tbody>\n",
       "    <tr>\n",
       "      <th>0</th>\n",
       "      <td>s1</td>\n",
       "      <td>Movie</td>\n",
       "      <td>Dick Johnson Is Dead</td>\n",
       "      <td>Kirsten Johnson</td>\n",
       "      <td>NaN</td>\n",
       "      <td>United States</td>\n",
       "      <td>September 25, 2021</td>\n",
       "      <td>2020</td>\n",
       "      <td>PG-13</td>\n",
       "      <td>90 min</td>\n",
       "      <td>Documentaries</td>\n",
       "      <td>As her father nears the end of his life, filmm...</td>\n",
       "    </tr>\n",
       "    <tr>\n",
       "      <th>1</th>\n",
       "      <td>s2</td>\n",
       "      <td>TV Show</td>\n",
       "      <td>Blood &amp; Water</td>\n",
       "      <td>NaN</td>\n",
       "      <td>Ama Qamata, Khosi Ngema, Gail Mabalane, Thaban...</td>\n",
       "      <td>South Africa</td>\n",
       "      <td>September 24, 2021</td>\n",
       "      <td>2021</td>\n",
       "      <td>TV-MA</td>\n",
       "      <td>2 Seasons</td>\n",
       "      <td>International TV Shows, TV Dramas, TV Mysteries</td>\n",
       "      <td>After crossing paths at a party, a Cape Town t...</td>\n",
       "    </tr>\n",
       "    <tr>\n",
       "      <th>2</th>\n",
       "      <td>s3</td>\n",
       "      <td>TV Show</td>\n",
       "      <td>Ganglands</td>\n",
       "      <td>Julien Leclercq</td>\n",
       "      <td>Sami Bouajila, Tracy Gotoas, Samuel Jouy, Nabi...</td>\n",
       "      <td>NaN</td>\n",
       "      <td>September 24, 2021</td>\n",
       "      <td>2021</td>\n",
       "      <td>TV-MA</td>\n",
       "      <td>1 Season</td>\n",
       "      <td>Crime TV Shows, International TV Shows, TV Act...</td>\n",
       "      <td>To protect his family from a powerful drug lor...</td>\n",
       "    </tr>\n",
       "    <tr>\n",
       "      <th>3</th>\n",
       "      <td>s4</td>\n",
       "      <td>TV Show</td>\n",
       "      <td>Jailbirds New Orleans</td>\n",
       "      <td>NaN</td>\n",
       "      <td>NaN</td>\n",
       "      <td>NaN</td>\n",
       "      <td>September 24, 2021</td>\n",
       "      <td>2021</td>\n",
       "      <td>TV-MA</td>\n",
       "      <td>1 Season</td>\n",
       "      <td>Docuseries, Reality TV</td>\n",
       "      <td>Feuds, flirtations and toilet talk go down amo...</td>\n",
       "    </tr>\n",
       "    <tr>\n",
       "      <th>4</th>\n",
       "      <td>s5</td>\n",
       "      <td>TV Show</td>\n",
       "      <td>Kota Factory</td>\n",
       "      <td>NaN</td>\n",
       "      <td>Mayur More, Jitendra Kumar, Ranjan Raj, Alam K...</td>\n",
       "      <td>India</td>\n",
       "      <td>September 24, 2021</td>\n",
       "      <td>2021</td>\n",
       "      <td>TV-MA</td>\n",
       "      <td>2 Seasons</td>\n",
       "      <td>International TV Shows, Romantic TV Shows, TV ...</td>\n",
       "      <td>In a city of coaching centers known to train I...</td>\n",
       "    </tr>\n",
       "  </tbody>\n",
       "</table>\n",
       "</div>"
      ],
      "text/plain": [
       "  show_id     type                  title         director  \\\n",
       "0      s1    Movie   Dick Johnson Is Dead  Kirsten Johnson   \n",
       "1      s2  TV Show          Blood & Water              NaN   \n",
       "2      s3  TV Show              Ganglands  Julien Leclercq   \n",
       "3      s4  TV Show  Jailbirds New Orleans              NaN   \n",
       "4      s5  TV Show           Kota Factory              NaN   \n",
       "\n",
       "                                                cast        country  \\\n",
       "0                                                NaN  United States   \n",
       "1  Ama Qamata, Khosi Ngema, Gail Mabalane, Thaban...   South Africa   \n",
       "2  Sami Bouajila, Tracy Gotoas, Samuel Jouy, Nabi...            NaN   \n",
       "3                                                NaN            NaN   \n",
       "4  Mayur More, Jitendra Kumar, Ranjan Raj, Alam K...          India   \n",
       "\n",
       "           date_added  release_year rating   duration  \\\n",
       "0  September 25, 2021          2020  PG-13     90 min   \n",
       "1  September 24, 2021          2021  TV-MA  2 Seasons   \n",
       "2  September 24, 2021          2021  TV-MA   1 Season   \n",
       "3  September 24, 2021          2021  TV-MA   1 Season   \n",
       "4  September 24, 2021          2021  TV-MA  2 Seasons   \n",
       "\n",
       "                                           listed_in  \\\n",
       "0                                      Documentaries   \n",
       "1    International TV Shows, TV Dramas, TV Mysteries   \n",
       "2  Crime TV Shows, International TV Shows, TV Act...   \n",
       "3                             Docuseries, Reality TV   \n",
       "4  International TV Shows, Romantic TV Shows, TV ...   \n",
       "\n",
       "                                         description  \n",
       "0  As her father nears the end of his life, filmm...  \n",
       "1  After crossing paths at a party, a Cape Town t...  \n",
       "2  To protect his family from a powerful drug lor...  \n",
       "3  Feuds, flirtations and toilet talk go down amo...  \n",
       "4  In a city of coaching centers known to train I...  "
      ]
     },
     "execution_count": 62,
     "metadata": {},
     "output_type": "execute_result"
    }
   ],
   "source": [
    "df.head(5)\n",
    "#df.info()"
   ]
  },
  {
   "cell_type": "markdown",
   "id": "cf572dd1",
   "metadata": {},
   "source": [
    "## Calculate the numbers of null values in the dataframe."
   ]
  },
  {
   "cell_type": "code",
   "execution_count": null,
   "id": "7a1cde80",
   "metadata": {},
   "outputs": [],
   "source": [
    "df.isnull().sum()      #Calculates the number of null values in each column.\n",
    "#df.columns[df.isnull().any()]     #This will return all the columns name which have null values in it.\n",
    "#df.isnull().any(axis = 0).sum()    #This will return number of rows which have atleast one NaN value in it.  [axis = 1 (Column wise)  & axis = 0 (Row wise)]"
   ]
  },
  {
   "cell_type": "markdown",
   "id": "5aa616be",
   "metadata": {},
   "source": [
    "## Filling the null values in the dataframe."
   ]
  },
  {
   "cell_type": "code",
   "execution_count": null,
   "id": "26fedf64",
   "metadata": {},
   "outputs": [],
   "source": [
    "df.fillna('Unknown')    #This will fill the all the empty cell with Unknown.\n",
    "    \n",
    "    #df['Director'].fillna(\"Unknow\")    #This will only fill Unknown at the empty cells of Director column.\n",
    "    #df.loc['row_index'].fillna(\"Unknown\")  #This will fill the Unknown value at a perticular row in that Dataframe.\n",
    "    \n",
    "    # ® df.fillna(method = 'pad')  #This will fill the null cell with the value just above of that cell.\n",
    "\t# ® df.fillna(method = 'bfill') #this will fill the null cell with the value just below the cell.\n",
    "\t# ® df.fillna(method = 'pad' , axis = 1)  #This will fill the null cell with the value just left to that cell.\n",
    "\t# ® df.fillna(method = 'bfill' , axis = 1) #this will fill the null cell with the value just right to the cell.\n"
   ]
  },
  {
   "cell_type": "markdown",
   "id": "fc74156b",
   "metadata": {},
   "source": [
    "## Returns the number of releases of different types on Netflix."
   ]
  },
  {
   "cell_type": "code",
   "execution_count": null,
   "id": "ea0b5e4d",
   "metadata": {},
   "outputs": [],
   "source": [
    "df.groupby('type').size()"
   ]
  },
  {
   "cell_type": "markdown",
   "id": "44d0f793",
   "metadata": {},
   "source": [
    "## Count number of shows starting with a perticular letter."
   ]
  },
  {
   "cell_type": "code",
   "execution_count": null,
   "id": "720ba2cf",
   "metadata": {},
   "outputs": [],
   "source": [
    "start_with = df[df['title'].str.startswith('A')].shape[0]   #Returns the total TV Shows and Movies starts with letter A.\n",
    "start_with\n",
    "\n",
    "#df[(df['type'] == 'TV Show') & (df['title'].str.startswith('A'))].shape[0]     # Returns the number of TV Shows that starts with letter A."
   ]
  },
  {
   "cell_type": "markdown",
   "id": "f16576f7",
   "metadata": {},
   "source": [
    "## Counts the number of movies released each year."
   ]
  },
  {
   "cell_type": "code",
   "execution_count": null,
   "id": "76ea5969",
   "metadata": {},
   "outputs": [],
   "source": [
    "per_yr = df[df['type'] == 'Movie'].groupby('release_year')['title'].count()\n",
    "per_yr"
   ]
  },
  {
   "cell_type": "markdown",
   "id": "f7be555a",
   "metadata": {},
   "source": [
    "## Count the movies produced by a director."
   ]
  },
  {
   "cell_type": "code",
   "execution_count": null,
   "id": "a86358cf",
   "metadata": {},
   "outputs": [],
   "source": [
    "director = df[ (df['type'] == 'Movie') & (df['director'] == 'Kirsten Johnson') & (df['release_year'] == 2020)].shape[0]\n",
    "director"
   ]
  },
  {
   "cell_type": "markdown",
   "id": "d6d817ba",
   "metadata": {},
   "source": [
    "## Count the TV shows & Movies produced after 2005. "
   ]
  },
  {
   "cell_type": "code",
   "execution_count": null,
   "id": "e40f4546",
   "metadata": {},
   "outputs": [],
   "source": [
    "after_05 = df[ (df['release_year'] > 2005) ].shape[0]\n",
    "after_05\n",
    "\n",
    "# na_after_05 = df[ (df['release_year'] > 2005) ]\n",
    "# na_after_05           #This will return all the rows and columns satisfying the above condition."
   ]
  },
  {
   "cell_type": "markdown",
   "id": "f02bd5c5",
   "metadata": {},
   "source": [
    "## Count the number of movies released between 2019 to 2021."
   ]
  },
  {
   "cell_type": "code",
   "execution_count": null,
   "id": "7eb91b47",
   "metadata": {},
   "outputs": [],
   "source": [
    "bet_19_21 = df[ (df['type'] == 'Movie') & ((df['release_year'] >= 2019) & (df['release_year'] <= 2021)) ].shape[0]\n",
    "bet_19_21\n",
    "\n",
    "# na_bet_19_21 = df[ (df['type'] == 'Movie') & ((df['release_year'] >= 2019) & (df['release_year'] <= 2021)) ]\n",
    "# na_bet_19_21              #This will return all the rows and columns satisfying the above condition."
   ]
  },
  {
   "cell_type": "markdown",
   "id": "23a24459",
   "metadata": {},
   "source": [
    "## Calculate the average release periode for a movie in between 2010 to 2020. "
   ]
  },
  {
   "cell_type": "code",
   "execution_count": null,
   "id": "0f6d52b0",
   "metadata": {},
   "outputs": [],
   "source": []
  }
 ],
 "metadata": {
  "kernelspec": {
   "display_name": "Python 3",
   "language": "python",
   "name": "python3"
  },
  "language_info": {
   "codemirror_mode": {
    "name": "ipython",
    "version": 3
   },
   "file_extension": ".py",
   "mimetype": "text/x-python",
   "name": "python",
   "nbconvert_exporter": "python",
   "pygments_lexer": "ipython3",
   "version": "3.11.9"
  }
 },
 "nbformat": 4,
 "nbformat_minor": 5
}
