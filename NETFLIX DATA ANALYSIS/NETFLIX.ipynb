{
 "cells": [
  {
   "cell_type": "code",
   "execution_count": 42,
   "id": "9c5da193",
   "metadata": {},
   "outputs": [],
   "source": [
    "import pandas as pd\n",
    "df = pd.read_csv(r\"D:\\PYTON PROGRAMMING\\PYTHON FILES\\PANDAS\\PANDAS-MODULE-PRACTICE\\NETFLIX DATA ANALYSIS\\netflix_titles.csv\")"
   ]
  },
  {
   "cell_type": "code",
   "execution_count": null,
   "id": "6840bafd",
   "metadata": {},
   "outputs": [],
   "source": [
    "print(df.head(5),\"\\n\")\n",
    "print(df.shape,\"\\n\")\n",
    "print(df.columns)"
   ]
  },
  {
   "cell_type": "markdown",
   "id": "cf572dd1",
   "metadata": {},
   "source": [
    "## Data cleaning And Inspection"
   ]
  },
  {
   "cell_type": "markdown",
   "id": "ab64b922",
   "metadata": {},
   "source": [
    "--> Count how many rows and columns are there in the dataset."
   ]
  },
  {
   "cell_type": "code",
   "execution_count": null,
   "id": "7c554d37",
   "metadata": {},
   "outputs": [],
   "source": [
    "rows = df.shape[0]   # Calculate the number of rows.\n",
    "columns = df.shape[1]   # Calculate the number of columns.\n",
    "\n",
    "print(rows)\n",
    "print(columns)"
   ]
  },
  {
   "cell_type": "markdown",
   "id": "696b5377",
   "metadata": {},
   "source": [
    "--> Are there any missing values? If so, in which columns and how many?"
   ]
  },
  {
   "cell_type": "code",
   "execution_count": null,
   "id": "7a1cde80",
   "metadata": {},
   "outputs": [],
   "source": [
    "values = df.isnull().sum()\n",
    "print(values)"
   ]
  },
  {
   "cell_type": "markdown",
   "id": "8530f10c",
   "metadata": {},
   "source": [
    "--> Drop all rows with missing values and store in a new DataFrame."
   ]
  },
  {
   "cell_type": "code",
   "execution_count": 24,
   "id": "5e7267ba",
   "metadata": {},
   "outputs": [],
   "source": [
    "cleaned_df = df.dropna()"
   ]
  },
  {
   "cell_type": "markdown",
   "id": "2e5d7d62",
   "metadata": {},
   "source": [
    "--> What are the data types of each column?"
   ]
  },
  {
   "cell_type": "code",
   "execution_count": null,
   "id": "4febe7c8",
   "metadata": {},
   "outputs": [],
   "source": [
    "types = cleaned_df.columns\n",
    "print(types.dtype)"
   ]
  },
  {
   "cell_type": "markdown",
   "id": "7dd0eb2a",
   "metadata": {},
   "source": [
    "-->  Convert the date_added column to datetime."
   ]
  },
  {
   "cell_type": "code",
   "execution_count": 25,
   "id": "988be9dd",
   "metadata": {},
   "outputs": [],
   "source": [
    "cleaned_df = df.rename(columns = {'date_added':'datetime'},inplace=True)"
   ]
  },
  {
   "cell_type": "markdown",
   "id": "2bf73d06",
   "metadata": {},
   "source": [
    "## Exploratory Data Analysis (EDA)"
   ]
  },
  {
   "cell_type": "markdown",
   "id": "c9490c79",
   "metadata": {},
   "source": [
    "--> How many unique types (e.g., Movie, TV Show) are there? Count them."
   ]
  },
  {
   "cell_type": "code",
   "execution_count": null,
   "id": "05027244",
   "metadata": {},
   "outputs": [],
   "source": [
    "df.groupby(\"type\").size()"
   ]
  },
  {
   "cell_type": "markdown",
   "id": "dc869f48",
   "metadata": {},
   "source": [
    "--> What is the most common genre (listed_in)?"
   ]
  },
  {
   "cell_type": "code",
   "execution_count": null,
   "id": "a7db1ea9",
   "metadata": {},
   "outputs": [],
   "source": [
    "value_counts = df['listed_in'].value_counts()\n",
    "most_common = value_counts.idxmax()\n",
    "most_common"
   ]
  },
  {
   "cell_type": "markdown",
   "id": "98eb9da8",
   "metadata": {},
   "source": [
    "--> How many titles were added each year?"
   ]
  },
  {
   "cell_type": "code",
   "execution_count": null,
   "id": "a015fd0a",
   "metadata": {},
   "outputs": [],
   "source": [
    "count = df.groupby('release_year')['title'].count()\n",
    "count"
   ]
  },
  {
   "cell_type": "markdown",
   "id": "583f1705",
   "metadata": {},
   "source": [
    "--> Find the top 10 countries by the number of titles produced."
   ]
  },
  {
   "cell_type": "code",
   "execution_count": null,
   "id": "bdf0307f",
   "metadata": {},
   "outputs": [],
   "source": [
    "df.head()"
   ]
  },
  {
   "cell_type": "markdown",
   "id": "5aa616be",
   "metadata": {},
   "source": [
    "## Filling the null values in the dataframe."
   ]
  },
  {
   "cell_type": "code",
   "execution_count": 43,
   "id": "26fedf64",
   "metadata": {},
   "outputs": [
    {
     "ename": "AttributeError",
     "evalue": "'NoneType' object has no attribute 'fillna'",
     "output_type": "error",
     "traceback": [
      "\u001b[31m---------------------------------------------------------------------------\u001b[39m",
      "\u001b[31mAttributeError\u001b[39m                            Traceback (most recent call last)",
      "\u001b[36mCell\u001b[39m\u001b[36m \u001b[39m\u001b[32mIn[43]\u001b[39m\u001b[32m, line 1\u001b[39m\n\u001b[32m----> \u001b[39m\u001b[32m1\u001b[39m \u001b[43mdf\u001b[49m\u001b[43m.\u001b[49m\u001b[43mfillna\u001b[49m(\u001b[33m'\u001b[39m\u001b[33mUnknown\u001b[39m\u001b[33m'\u001b[39m,inplace=\u001b[38;5;28;01mTrue\u001b[39;00m)    \u001b[38;5;66;03m#This will fill the all the empty cell with Unknown.\u001b[39;00m\n\u001b[32m      3\u001b[39m     \u001b[38;5;66;03m#df['Director'].fillna(\"Unknow\")    #This will only fill Unknown at the empty cells of Director column.\u001b[39;00m\n\u001b[32m      4\u001b[39m     \u001b[38;5;66;03m#df.loc['row_index'].fillna(\"Unknown\")  #This will fill the Unknown value at a perticular row in that Dataframe.\u001b[39;00m\n\u001b[32m      5\u001b[39m \n\u001b[32m   (...)\u001b[39m\u001b[32m      8\u001b[39m \t\u001b[38;5;66;03m# ® df.fillna(method = 'pad' , axis = 1)  #This will fill the null cell with the value just left to that cell.\u001b[39;00m\n\u001b[32m      9\u001b[39m \t\u001b[38;5;66;03m# ® df.fillna(method = 'bfill' , axis = 1) #this will fill the null cell with the value just right to the cell.\u001b[39;00m\n",
      "\u001b[31mAttributeError\u001b[39m: 'NoneType' object has no attribute 'fillna'"
     ]
    }
   ],
   "source": [
    "df.fillna('Unknown',inplace=True)    #This will fill the all the empty cell with Unknown.\n",
    "    \n",
    "    #df['Director'].fillna(\"Unknow\")    #This will only fill Unknown at the empty cells of Director column.\n",
    "    #df.loc['row_index'].fillna(\"Unknown\")  #This will fill the Unknown value at a perticular row in that Dataframe.\n",
    "    \n",
    "    # ® df.fillna(method = 'pad')  #This will fill the null cell with the value just above of that cell.\n",
    "\t# ® df.fillna(method = 'bfill') #this will fill the null cell with the value just below the cell.\n",
    "\t# ® df.fillna(method = 'pad' , axis = 1)  #This will fill the null cell with the value just left to that cell.\n",
    "\t# ® df.fillna(method = 'bfill' , axis = 1) #this will fill the null cell with the value just right to the cell.\n"
   ]
  },
  {
   "cell_type": "markdown",
   "id": "fc74156b",
   "metadata": {},
   "source": [
    "## Returns the number of releases of different types on Netflix."
   ]
  },
  {
   "cell_type": "code",
   "execution_count": null,
   "id": "ea0b5e4d",
   "metadata": {},
   "outputs": [],
   "source": [
    "df.groupby('type').size()"
   ]
  },
  {
   "cell_type": "markdown",
   "id": "44d0f793",
   "metadata": {},
   "source": [
    "## Count number of shows starting with a perticular letter."
   ]
  },
  {
   "cell_type": "code",
   "execution_count": null,
   "id": "720ba2cf",
   "metadata": {},
   "outputs": [],
   "source": [
    "start_with = df[df['title'].str.startswith('A')].shape[0]   #Returns the total TV Shows and Movies starts with letter A.\n",
    "\n",
    "#df[(df['type'] == 'TV Show') & (df['title'].str.startswith('A'))].shape[0]     # Returns the number of TV Shows that starts with letter A."
   ]
  },
  {
   "cell_type": "markdown",
   "id": "f16576f7",
   "metadata": {},
   "source": [
    "## Counts the number of movies released each year."
   ]
  },
  {
   "cell_type": "code",
   "execution_count": null,
   "id": "76ea5969",
   "metadata": {},
   "outputs": [],
   "source": [
    "per_yr = df[df['type'] == 'Movie'].groupby('release_year')['title'].count()"
   ]
  },
  {
   "cell_type": "markdown",
   "id": "f7be555a",
   "metadata": {},
   "source": [
    "## Count the movies produced by a director."
   ]
  },
  {
   "cell_type": "code",
   "execution_count": null,
   "id": "a86358cf",
   "metadata": {},
   "outputs": [],
   "source": [
    "director = df[ (df['type'] == 'Movie') & (df['director'] == 'Kirsten Johnson') & (df['release_year'] == 2020)].shape[0]"
   ]
  },
  {
   "cell_type": "markdown",
   "id": "d6d817ba",
   "metadata": {},
   "source": [
    "## Count the TV shows & Movies produced after 2005. "
   ]
  },
  {
   "cell_type": "code",
   "execution_count": 10,
   "id": "e40f4546",
   "metadata": {},
   "outputs": [],
   "source": [
    "after_05 = df[ (df['release_year'] > 2005) ].shape[0]\n",
    "\n",
    "# na_after_05 = df[ (df['release_year'] > 2005) ]\n",
    "# na_after_05           #This will return all the rows and columns satisfying the above condition."
   ]
  },
  {
   "cell_type": "markdown",
   "id": "f02bd5c5",
   "metadata": {},
   "source": [
    "## Count the number of movies released between 2019 to 2021."
   ]
  },
  {
   "cell_type": "code",
   "execution_count": null,
   "id": "7eb91b47",
   "metadata": {},
   "outputs": [],
   "source": [
    "bet_19_21 = df[ (df['type'] == 'Movie') & ((df['release_year'] >= 2019) & (df['release_year'] <= 2021)) ].shape[0]\n",
    "bet_19_21\n",
    "\n",
    "# na_bet_19_21 = df[ (df['type'] == 'Movie') & ((df['release_year'] >= 2019) & (df['release_year'] <= 2021)) ]\n",
    "# na_bet_19_21              #This will return all the rows and columns satisfying the above condition."
   ]
  },
  {
   "cell_type": "markdown",
   "id": "23a24459",
   "metadata": {},
   "source": [
    "## Calculate the average release periode on netlix in between 2010 to 2020. "
   ]
  },
  {
   "cell_type": "code",
   "execution_count": 24,
   "id": "0f6d52b0",
   "metadata": {},
   "outputs": [
    {
     "data": {
      "text/plain": [
       "Timedelta('0 days 12:21:58.900915903')"
      ]
     },
     "execution_count": 24,
     "metadata": {},
     "output_type": "execute_result"
    }
   ],
   "source": [
    "df['date_added'] = pd.to_datetime(df['date_added'], errors='coerce')     # errors='coerce' This skips those cells which is not valid date format.\n",
    "df = df[df['date_added'].dt.year.between(2010,2020)]\n",
    "df = df.sort_values(by='date_added')\n",
    "df['gap'] = df['date_added'].diff()     #This will create a new column gap, where the gap between movie of that row to the movie of row just above, is stored.\n",
    "avg = df['gap'].mean()\n",
    "avg"
   ]
  },
  {
   "cell_type": "code",
   "execution_count": 20,
   "id": "a9c9849a",
   "metadata": {},
   "outputs": [
    {
     "name": "stdout",
     "output_type": "stream",
     "text": [
      "Average release time gap: 0 days, 12 hours, 21 minutes, 58 seconds\n"
     ]
    }
   ],
   "source": [
    "days = avg.days\n",
    "seconds = avg.seconds\n",
    "microseconds = avg.microseconds\n",
    "\n",
    "hours = seconds // 3600\n",
    "minutes = (seconds % 3600) // 60\n",
    "seconds_remainder = seconds % 60\n",
    "print(f\"Average release time gap: {days} days, {hours} hours, {minutes} minutes, {seconds_remainder} seconds\")"
   ]
  },
  {
   "cell_type": "markdown",
   "id": "800bfccb",
   "metadata": {},
   "source": [
    "## Find which director produced most shows on netfix."
   ]
  },
  {
   "cell_type": "code",
   "execution_count": null,
   "id": "945fb2f8",
   "metadata": {},
   "outputs": [],
   "source": [
    "a = df.groupby('director')['type'].value_counts().sort_values(ascending=0)"
   ]
  },
  {
   "cell_type": "code",
   "execution_count": null,
   "id": "a581ffa6",
   "metadata": {},
   "outputs": [],
   "source": []
  },
  {
   "cell_type": "code",
   "execution_count": null,
   "id": "a008d46c",
   "metadata": {},
   "outputs": [],
   "source": []
  }
 ],
 "metadata": {
  "kernelspec": {
   "display_name": "Python 3",
   "language": "python",
   "name": "python3"
  },
  "language_info": {
   "codemirror_mode": {
    "name": "ipython",
    "version": 3
   },
   "file_extension": ".py",
   "mimetype": "text/x-python",
   "name": "python",
   "nbconvert_exporter": "python",
   "pygments_lexer": "ipython3",
   "version": "3.11.9"
  }
 },
 "nbformat": 4,
 "nbformat_minor": 5
}
