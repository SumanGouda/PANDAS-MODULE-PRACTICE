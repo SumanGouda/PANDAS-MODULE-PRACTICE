{
 "cells": [
  {
   "cell_type": "markdown",
   "id": "8cdbd1c8",
   "metadata": {},
   "source": [
    "# Import Pandas and Numpy module."
   ]
  },
  {
   "cell_type": "code",
   "execution_count": 41,
   "id": "72a48fb6",
   "metadata": {},
   "outputs": [],
   "source": [
    "import pandas as pd\n",
    "import numpy as np \n"
   ]
  },
  {
   "cell_type": "markdown",
   "id": "2ec6e3b9",
   "metadata": {},
   "source": [
    "# Open the Uncleaned data."
   ]
  },
  {
   "cell_type": "code",
   "execution_count": 53,
   "id": "f492f8a0",
   "metadata": {},
   "outputs": [
    {
     "data": {
      "text/html": [
       "<div>\n",
       "<style scoped>\n",
       "    .dataframe tbody tr th:only-of-type {\n",
       "        vertical-align: middle;\n",
       "    }\n",
       "\n",
       "    .dataframe tbody tr th {\n",
       "        vertical-align: top;\n",
       "    }\n",
       "\n",
       "    .dataframe thead th {\n",
       "        text-align: right;\n",
       "    }\n",
       "</style>\n",
       "<table border=\"1\" class=\"dataframe\">\n",
       "  <thead>\n",
       "    <tr style=\"text-align: right;\">\n",
       "      <th></th>\n",
       "      <th>Name</th>\n",
       "      <th>age</th>\n",
       "      <th>Gender</th>\n",
       "      <th>Score</th>\n",
       "      <th>city</th>\n",
       "    </tr>\n",
       "  </thead>\n",
       "  <tbody>\n",
       "    <tr>\n",
       "      <th>0</th>\n",
       "      <td>John Doe</td>\n",
       "      <td>17</td>\n",
       "      <td>Male</td>\n",
       "      <td>88</td>\n",
       "      <td>new york</td>\n",
       "    </tr>\n",
       "    <tr>\n",
       "      <th>1</th>\n",
       "      <td>jane doe</td>\n",
       "      <td></td>\n",
       "      <td>female</td>\n",
       "      <td>92</td>\n",
       "      <td>New York</td>\n",
       "    </tr>\n",
       "    <tr>\n",
       "      <th>2</th>\n",
       "      <td>ALICE</td>\n",
       "      <td>16</td>\n",
       "      <td>Female</td>\n",
       "      <td>85</td>\n",
       "      <td>los Angeles</td>\n",
       "    </tr>\n",
       "    <tr>\n",
       "      <th>3</th>\n",
       "      <td>Bob Smith</td>\n",
       "      <td>17</td>\n",
       "      <td>MALE</td>\n",
       "      <td></td>\n",
       "      <td>LOS ANGELES</td>\n",
       "    </tr>\n",
       "    <tr>\n",
       "      <th>4</th>\n",
       "      <td>John Doe</td>\n",
       "      <td>17</td>\n",
       "      <td>Male</td>\n",
       "      <td>88</td>\n",
       "      <td>NEW YORK</td>\n",
       "    </tr>\n",
       "    <tr>\n",
       "      <th>5</th>\n",
       "      <td>carol</td>\n",
       "      <td>18</td>\n",
       "      <td>female</td>\n",
       "      <td>79</td>\n",
       "      <td>chicago</td>\n",
       "    </tr>\n",
       "    <tr>\n",
       "      <th>6</th>\n",
       "      <td>NaN</td>\n",
       "      <td>16</td>\n",
       "      <td>Male</td>\n",
       "      <td>90</td>\n",
       "      <td>Chicago</td>\n",
       "    </tr>\n",
       "    <tr>\n",
       "      <th>7</th>\n",
       "      <td>Eve</td>\n",
       "      <td>17</td>\n",
       "      <td>FEMALE</td>\n",
       "      <td>84</td>\n",
       "      <td>LOS angeles</td>\n",
       "    </tr>\n",
       "    <tr>\n",
       "      <th>8</th>\n",
       "      <td>michael</td>\n",
       "      <td>19</td>\n",
       "      <td>Male</td>\n",
       "      <td>91</td>\n",
       "      <td>Dallas</td>\n",
       "    </tr>\n",
       "    <tr>\n",
       "      <th>9</th>\n",
       "      <td>Sarah</td>\n",
       "      <td></td>\n",
       "      <td>female</td>\n",
       "      <td>89</td>\n",
       "      <td>dallas</td>\n",
       "    </tr>\n",
       "    <tr>\n",
       "      <th>10</th>\n",
       "      <td>Ron</td>\n",
       "      <td>18</td>\n",
       "      <td>MALE</td>\n",
       "      <td></td>\n",
       "      <td>Houston</td>\n",
       "    </tr>\n",
       "    <tr>\n",
       "      <th>11</th>\n",
       "      <td>mike tyson</td>\n",
       "      <td>17</td>\n",
       "      <td>Male</td>\n",
       "      <td>75</td>\n",
       "      <td>houston</td>\n",
       "    </tr>\n",
       "    <tr>\n",
       "      <th>12</th>\n",
       "      <td>Anna</td>\n",
       "      <td>17</td>\n",
       "      <td>Female</td>\n",
       "      <td>80</td>\n",
       "      <td>Boston</td>\n",
       "    </tr>\n",
       "    <tr>\n",
       "      <th>13</th>\n",
       "      <td>Steve</td>\n",
       "      <td>18</td>\n",
       "      <td>Male</td>\n",
       "      <td>82</td>\n",
       "      <td>BOSTON</td>\n",
       "    </tr>\n",
       "    <tr>\n",
       "      <th>14</th>\n",
       "      <td>emma watson</td>\n",
       "      <td>17</td>\n",
       "      <td>female</td>\n",
       "      <td>86</td>\n",
       "      <td>miami</td>\n",
       "    </tr>\n",
       "    <tr>\n",
       "      <th>15</th>\n",
       "      <td>Tom Riddle</td>\n",
       "      <td>16</td>\n",
       "      <td>NaN</td>\n",
       "      <td>80</td>\n",
       "      <td>Miami</td>\n",
       "    </tr>\n",
       "    <tr>\n",
       "      <th>16</th>\n",
       "      <td>leo messi</td>\n",
       "      <td></td>\n",
       "      <td>male</td>\n",
       "      <td>94</td>\n",
       "      <td>barcelona</td>\n",
       "    </tr>\n",
       "    <tr>\n",
       "      <th>17</th>\n",
       "      <td>Cristiano</td>\n",
       "      <td>18</td>\n",
       "      <td>MALE</td>\n",
       "      <td></td>\n",
       "      <td>Barcelona</td>\n",
       "    </tr>\n",
       "    <tr>\n",
       "      <th>18</th>\n",
       "      <td>serena</td>\n",
       "      <td>16</td>\n",
       "      <td>FEMALE</td>\n",
       "      <td>81</td>\n",
       "      <td>barcelona</td>\n",
       "    </tr>\n",
       "    <tr>\n",
       "      <th>19</th>\n",
       "      <td>Andy</td>\n",
       "      <td>17</td>\n",
       "      <td>Male</td>\n",
       "      <td>88</td>\n",
       "      <td>barcelona</td>\n",
       "    </tr>\n",
       "  </tbody>\n",
       "</table>\n",
       "</div>"
      ],
      "text/plain": [
       "           Name  age   Gender Score          city\n",
       "0      John Doe   17     Male    88      new york\n",
       "1      jane doe        female    92      New York\n",
       "2         ALICE   16   Female    85   los Angeles\n",
       "3     Bob Smith   17     MALE         LOS ANGELES\n",
       "4      John Doe   17     Male    88      NEW YORK\n",
       "5         carol   18   female    79       chicago\n",
       "6           NaN   16     Male    90       Chicago\n",
       "7           Eve   17   FEMALE    84   LOS angeles\n",
       "8      michael    19     Male    91        Dallas\n",
       "9         Sarah        female    89        dallas\n",
       "10          Ron   18     MALE             Houston\n",
       "11   mike tyson   17     Male    75       houston\n",
       "12         Anna   17   Female    80        Boston\n",
       "13        Steve   18     Male   82         BOSTON\n",
       "14  emma watson   17   female    86         miami\n",
       "15   Tom Riddle   16      NaN    80         Miami\n",
       "16    leo messi         male     94     barcelona\n",
       "17   Cristiano    18     MALE           Barcelona\n",
       "18       serena   16   FEMALE    81     barcelona\n",
       "19         Andy   17     Male    88     barcelona"
      ]
     },
     "execution_count": 53,
     "metadata": {},
     "output_type": "execute_result"
    }
   ],
   "source": [
    "df = pd.read_csv(r\"D:\\PYTON PROGRAMMING\\PYTHON FILES\\PANDAS\\Student Data.csv\")\n",
    "df"
   ]
  },
  {
   "cell_type": "markdown",
   "id": "12e76eb1",
   "metadata": {},
   "source": [
    "# Clean all the name data."
   ]
  },
  {
   "cell_type": "code",
   "execution_count": null,
   "id": "f499a988",
   "metadata": {},
   "outputs": [],
   "source": [
    "df[['Name', 'city','Gender']] = df[['Name','city','Gender']].apply(lambda col: col.str.title())\n",
    "df\n"
   ]
  },
  {
   "cell_type": "markdown",
   "id": "4cabd6ca",
   "metadata": {},
   "source": [
    "## Clean the NaN values from the name column by removing the entire row."
   ]
  },
  {
   "cell_type": "code",
   "execution_count": null,
   "id": "123e4a64",
   "metadata": {},
   "outputs": [],
   "source": [
    "df.dropna(inplace=True)\n",
    "df.reset_index(drop=True , inplace= True)\n",
    "df"
   ]
  },
  {
   "cell_type": "markdown",
   "id": "44b39fce",
   "metadata": {},
   "source": [
    "## Fill all the empty spaces of age column with value 18."
   ]
  },
  {
   "cell_type": "code",
   "execution_count": null,
   "id": "01093041",
   "metadata": {},
   "outputs": [],
   "source": [
    "df['age'].replace(' ', np.nan, inplace=True)\n",
    "df['age'].fillna(value= 18 ,inplace = True)\n",
    "df\n"
   ]
  },
  {
   "cell_type": "markdown",
   "id": "59b52c1b",
   "metadata": {},
   "source": [
    "## Replace all the empty values of score with value 0."
   ]
  },
  {
   "cell_type": "code",
   "execution_count": null,
   "id": "045125af",
   "metadata": {},
   "outputs": [],
   "source": [
    "df.replace(r'^\\s*$', np.nan, regex=True, inplace=True)\n",
    "\n",
    "df['Score'].fillna(0, inplace=True)\n",
    "df"
   ]
  },
  {
   "cell_type": "markdown",
   "id": "7cbf78a0",
   "metadata": {},
   "source": [
    "## Save it to a new csv file."
   ]
  },
  {
   "cell_type": "code",
   "execution_count": 51,
   "id": "a8f11472",
   "metadata": {},
   "outputs": [],
   "source": [
    "df.to_csv('cleaned_data.csv', index=False)\n"
   ]
  },
  {
   "cell_type": "code",
   "execution_count": null,
   "id": "c2b1636b",
   "metadata": {},
   "outputs": [],
   "source": []
  }
 ],
 "metadata": {
  "kernelspec": {
   "display_name": "Python 3",
   "language": "python",
   "name": "python3"
  },
  "language_info": {
   "codemirror_mode": {
    "name": "ipython",
    "version": 3
   },
   "file_extension": ".py",
   "mimetype": "text/x-python",
   "name": "python",
   "nbconvert_exporter": "python",
   "pygments_lexer": "ipython3",
   "version": "3.11.9"
  }
 },
 "nbformat": 4,
 "nbformat_minor": 5
}
