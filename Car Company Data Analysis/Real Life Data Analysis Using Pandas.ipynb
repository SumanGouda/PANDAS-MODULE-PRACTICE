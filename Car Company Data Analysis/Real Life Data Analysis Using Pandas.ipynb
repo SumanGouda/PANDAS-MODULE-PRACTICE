{
 "cells": [
  {
   "cell_type": "markdown",
   "id": "3b13858e",
   "metadata": {},
   "source": [
    "1. Import the data file from your PC."
   ]
  },
  {
   "cell_type": "code",
   "execution_count": 1,
   "id": "b46d20d6",
   "metadata": {},
   "outputs": [],
   "source": [
    "import pandas as pd\n",
    "import numpy as np\n",
    "df = pd.read_csv(r\"D:\\PYTON PROGRAMMING\\PYTHON FILES\\PANDAS\\PANDAS-MODULE-PRACTICE\\Automobile_data.csv\")"
   ]
  },
  {
   "cell_type": "markdown",
   "id": "a72b9b2d",
   "metadata": {},
   "source": [
    "3. Print first 4 rows and the last 4 rows of the data file."
   ]
  },
  {
   "cell_type": "code",
   "execution_count": null,
   "id": "2e2adfb3",
   "metadata": {},
   "outputs": [],
   "source": [
    "df.head(4)  #Prints the first 4 rows.\n",
    "df.tail(4)  #Prints the last 4 rows."
   ]
  },
  {
   "cell_type": "markdown",
   "id": "71a7f69b",
   "metadata": {},
   "source": [
    "4. Print company and price column only."
   ]
  },
  {
   "cell_type": "code",
   "execution_count": null,
   "id": "f6e01251",
   "metadata": {},
   "outputs": [],
   "source": [
    "df[['company','price']]"
   ]
  },
  {
   "cell_type": "markdown",
   "id": "8e5954fb",
   "metadata": {},
   "source": [
    "11. Print all the rows which have atleast one NaN value."
   ]
  },
  {
   "cell_type": "code",
   "execution_count": null,
   "id": "a89c0465",
   "metadata": {},
   "outputs": [],
   "source": [
    "print(df[df.isna().any(axis=1)])"
   ]
  },
  {
   "cell_type": "markdown",
   "id": "e9f3f2fa",
   "metadata": {},
   "source": [
    "12. Remove all the NaN value from the Dataframe."
   ]
  },
  {
   "cell_type": "code",
   "execution_count": 2,
   "id": "24e932d0",
   "metadata": {},
   "outputs": [],
   "source": [
    "#Remove all values here...\n",
    "df.dropna(inplace=True)"
   ]
  },
  {
   "cell_type": "markdown",
   "id": "fe75b961",
   "metadata": {},
   "source": [
    "13. Clean the data by capitalizing the first letter."
   ]
  },
  {
   "cell_type": "code",
   "execution_count": null,
   "id": "601bc8ae",
   "metadata": {},
   "outputs": [],
   "source": [
    "cols = ['company', 'body-style', 'num-of-cylinders']\n",
    "df[cols] = df[cols].apply(lambda x: x.str.strip().str.title())\n",
    "df['engine-type'] = df['engine-type'].str.upper()\n",
    "df.head(5)"
   ]
  },
  {
   "cell_type": "markdown",
   "id": "6770b284",
   "metadata": {},
   "source": [
    "5. Print all the cars from a perticular company which have price over 15000.\n"
   ]
  },
  {
   "cell_type": "code",
   "execution_count": null,
   "id": "c9d456b9",
   "metadata": {},
   "outputs": [],
   "source": [
    "df[(df['company'] == 'Alfa-Romero') & (df['price'] > 15000)]"
   ]
  },
  {
   "cell_type": "markdown",
   "id": "2d413003",
   "metadata": {},
   "source": [
    "6. Change the price of car at row 15 to 12000"
   ]
  },
  {
   "cell_type": "code",
   "execution_count": 4,
   "id": "0e8001e6",
   "metadata": {},
   "outputs": [],
   "source": [
    "df.loc[15,'price'] = 12000"
   ]
  },
  {
   "cell_type": "markdown",
   "id": "75864e5e",
   "metadata": {},
   "source": [
    "7. Sum the entire price column."
   ]
  },
  {
   "cell_type": "code",
   "execution_count": null,
   "id": "6788d210",
   "metadata": {},
   "outputs": [],
   "source": [
    "df.sum()['price']"
   ]
  },
  {
   "cell_type": "markdown",
   "id": "c3935cf8",
   "metadata": {},
   "source": [
    "7. Print average car price of each company."
   ]
  },
  {
   "cell_type": "code",
   "execution_count": null,
   "id": "e5d0a3ae",
   "metadata": {},
   "outputs": [],
   "source": [
    "df.groupby('company')['price'].agg('mean')"
   ]
  },
  {
   "cell_type": "markdown",
   "id": "f633d120",
   "metadata": {},
   "source": [
    "8. Print number of cars from each company."
   ]
  },
  {
   "cell_type": "code",
   "execution_count": null,
   "id": "d31c4ebe",
   "metadata": {},
   "outputs": [],
   "source": [
    "df.groupby('company')['index'].count().sort_values(ascending=False)"
   ]
  },
  {
   "cell_type": "markdown",
   "id": "c7f1d743",
   "metadata": {},
   "source": [
    "9. Print all the car comapny that starts with A."
   ]
  },
  {
   "cell_type": "code",
   "execution_count": null,
   "id": "285ce3dc",
   "metadata": {},
   "outputs": [],
   "source": [
    "print(df[df['company'].str.startswith('a')])\n"
   ]
  },
  {
   "cell_type": "markdown",
   "id": "eb738a23",
   "metadata": {},
   "source": [
    "10. Arrange the data on the basis of price."
   ]
  },
  {
   "cell_type": "code",
   "execution_count": null,
   "id": "bb0942f8",
   "metadata": {},
   "outputs": [],
   "source": [
    "df.sort_values(['price'], ascending = True,inplace=True)    # This will sort the entire data on the basis of price column.\n",
    "# For reseting the index\n",
    "df.reset_index(drop=True, inplace=True)\n",
    "df['index'] = df.index"
   ]
  },
  {
   "cell_type": "markdown",
   "id": "b40ac699",
   "metadata": {},
   "source": [
    "13. Replace a word with another."
   ]
  },
  {
   "cell_type": "code",
   "execution_count": 16,
   "id": "c41c8e1b",
   "metadata": {},
   "outputs": [],
   "source": [
    "df['num-of-cylinders'].replace({'Four': 'Eight'}, inplace=True)"
   ]
  },
  {
   "cell_type": "markdown",
   "id": "a6f4c0b9",
   "metadata": {},
   "source": [
    "14. Increase the price of Eight cylinders engine by 3000."
   ]
  },
  {
   "cell_type": "code",
   "execution_count": null,
   "id": "65ea3764",
   "metadata": {},
   "outputs": [],
   "source": [
    "df['price'] = df.apply(lambda x: x['price'] + 9563 if x['num-of-cylinders'] == 'Eight' else x['price'],axis=1)\n",
    "df"
   ]
  },
  {
   "cell_type": "markdown",
   "id": "41f80eb2",
   "metadata": {},
   "source": [
    "15. Increase the horsepower of the Eight cylinders engine by an amont of 82."
   ]
  },
  {
   "cell_type": "code",
   "execution_count": null,
   "id": "e1a3ed73",
   "metadata": {},
   "outputs": [],
   "source": [
    "df['horsepower'] = df.apply(lambda x : x['horsepower'] + 82 if x['num-of-cylinders'] == 'Eight' else x['horsepower'],axis=1)"
   ]
  },
  {
   "cell_type": "code",
   "execution_count": null,
   "id": "6611c625",
   "metadata": {},
   "outputs": [],
   "source": [
    "df.head(10)"
   ]
  },
  {
   "cell_type": "markdown",
   "id": "9debe633",
   "metadata": {},
   "source": [
    "16. Calculate the average price of eight cylindered engine cars."
   ]
  },
  {
   "cell_type": "code",
   "execution_count": null,
   "id": "91837f4d",
   "metadata": {},
   "outputs": [],
   "source": [
    "df[df['num-of-cylinders'] == 'Eight']['price'].agg('mean')"
   ]
  },
  {
   "cell_type": "markdown",
   "id": "606ff984",
   "metadata": {},
   "source": [
    "17. Calulate the average price for each number of cylinders type car."
   ]
  },
  {
   "cell_type": "code",
   "execution_count": null,
   "id": "9fc64b6c",
   "metadata": {},
   "outputs": [],
   "source": [
    "df.groupby('num-of-cylinders')['price'].agg('mean').sort_values(ascending=False)"
   ]
  },
  {
   "cell_type": "markdown",
   "id": "7a68b4a7",
   "metadata": {},
   "source": [
    "18. Print all the cars with rotor engine."
   ]
  },
  {
   "cell_type": "code",
   "execution_count": null,
   "id": "14b43cc9",
   "metadata": {},
   "outputs": [],
   "source": [
    "df[df['engine-type'] == 'ROTOR']"
   ]
  },
  {
   "cell_type": "markdown",
   "id": "fa159f96",
   "metadata": {},
   "source": [
    "19. Convert Rotor engine to Electric."
   ]
  },
  {
   "cell_type": "code",
   "execution_count": null,
   "id": "a2fe1701",
   "metadata": {},
   "outputs": [],
   "source": [
    "df['engine-type'].replace({'ROTOR':'ELECTRIC'},inplace=True)"
   ]
  },
  {
   "cell_type": "markdown",
   "id": "90740395",
   "metadata": {},
   "source": [
    "20. Increase the power of that Electric engine by 20 units."
   ]
  },
  {
   "cell_type": "code",
   "execution_count": null,
   "id": "86ffb87e",
   "metadata": {},
   "outputs": [],
   "source": [
    "df['horsepower'] = df.apply(lambda row: row['horsepower'] + 20 if row['engine-type'] == 'ELECTRIC' else row['horsepower'], axis = 1)"
   ]
  },
  {
   "cell_type": "markdown",
   "id": "cbc5f60f",
   "metadata": {},
   "source": [
    "21. Increase the price of the electric car by 6945."
   ]
  },
  {
   "cell_type": "code",
   "execution_count": 23,
   "id": "176436d4",
   "metadata": {},
   "outputs": [],
   "source": [
    "df['price'] = df.apply(lambda row: row['price'] + 6945 if row['engine-type'] == \"ELCTRIC\" else row['price'], axis=1)"
   ]
  },
  {
   "cell_type": "markdown",
   "id": "69c9e49f",
   "metadata": {},
   "source": [
    "22. Add electric to the car brand suffix."
   ]
  },
  {
   "cell_type": "code",
   "execution_count": 24,
   "id": "356ae543",
   "metadata": {},
   "outputs": [],
   "source": [
    "df['company'] = df.apply(lambda row : row['company'] + 'Elcetric' if row['engine-type'] == 'ELECTRIC' else row['company'], axis = 1)"
   ]
  },
  {
   "cell_type": "markdown",
   "id": "7c0dd924",
   "metadata": {},
   "source": [
    "22. Print all the cars of Porsche."
   ]
  },
  {
   "cell_type": "code",
   "execution_count": null,
   "id": "a62b609b",
   "metadata": {},
   "outputs": [],
   "source": [
    "df.loc[60, 'price'] = 45000\n",
    "df_porsche = df[df['company'].str.strip().str.lower() == \"porsche\"]\n",
    "\n",
    "porsche_avg = df[df['company'].str.strip().str.lower() == \"porsche\"]['price'].agg('mean')\n",
    "\n",
    "power_avg = df.groupby('company')['horsepower'].agg('mean').sort_values(ascending=0)\n",
    "power_avg"
   ]
  },
  {
   "cell_type": "markdown",
   "id": "7d23dfae",
   "metadata": {},
   "source": [
    "15. Filter Out value, if the same exist just before it.\n"
   ]
  },
  {
   "cell_type": "code",
   "execution_count": null,
   "id": "f21649f6",
   "metadata": {},
   "outputs": [],
   "source": [
    "a = pd.DataFrame({'A' : [1,1,2,3,2,3,4,5,5,5,6,7,7]}) \n",
    "my_list = a['A'].tolist()       #This will convert the dataframe into a list.\n",
    "new_list = [my_list[0]]\n",
    "\n",
    "for i in range (1,len(my_list)):\n",
    "    if my_list[i] != my_list[i-1]:\n",
    "        new_list.append(my_list[i])\n",
    "\n",
    "a = pd.DataFrame(new_list, columns=['A'])       #This will again convert the list into dataframe.\n",
    "a"
   ]
  },
  {
   "cell_type": "markdown",
   "id": "fed92589",
   "metadata": {},
   "source": [
    "15. How do you subtract the row mean from each element in the row"
   ]
  },
  {
   "cell_type": "code",
   "execution_count": null,
   "id": "81ac6edc",
   "metadata": {},
   "outputs": [],
   "source": [
    "b = pd.DataFrame(np.random.random(size=(5,3)))   #creates a table of 5 row and 3 columns.\n",
    "b.mean(axis=1)  #Calculates the mean of the values in the table along the rows(Axis = 1).\n",
    "print(b - b.mean())"
   ]
  },
  {
   "cell_type": "markdown",
   "id": "c549273d",
   "metadata": {},
   "source": [
    "16. Suppose you have a data frame of 10 columns and 5 rows, Then print which column has the smallest sum."
   ]
  },
  {
   "cell_type": "code",
   "execution_count": null,
   "id": "24237c70",
   "metadata": {},
   "outputs": [],
   "source": [
    "r = pd.DataFrame(np.random.random(size=(5,10)),columns=list('abcdefghij'))\n",
    "r.sum(axis=0).idxmin()"
   ]
  },
  {
   "cell_type": "markdown",
   "id": "196dae2e",
   "metadata": {},
   "source": [
    "17. How do you count how many unique rows a DataFrame has? "
   ]
  },
  {
   "cell_type": "code",
   "execution_count": null,
   "id": "17c1acdc",
   "metadata": {},
   "outputs": [],
   "source": [
    "df = pd.DataFrame(np.random.randint(0,2,size=(10,3)),index=list('abcdefghij'))\n",
    "print(df)\n",
    "nums = df.values.tolist()\n",
    "unique_value = set(tuple(num) for num in nums)\n",
    "unique_value_list = list(unique_value)\n",
    "print(len(unique_value))\n",
    "    "
   ]
  },
  {
   "cell_type": "markdown",
   "id": "118a199c",
   "metadata": {},
   "source": [
    "18. You and your spouse decided to let the internet name your next child. You’ve asked the great people of the web to submit their favorite names, and you’ve compiled their submissions into a Series called babynames."
   ]
  },
  {
   "cell_type": "code",
   "execution_count": null,
   "id": "17699761",
   "metadata": {},
   "outputs": [],
   "source": [
    "babynames = pd.Series([\n",
    "    'Jathonathon', 'Zeltron', 'Ruger', 'Phreddy', 'Ruger', 'Chad', 'Chad',\n",
    "    'Ruger', 'Ryan', 'Ruger', 'Chad', 'Ryan', 'Phreddy', 'Phreddy', 'Phreddy',\n",
    "    'Mister', 'Zeltron', 'Ryan', 'Ruger', 'Ruger', 'Jathonathon',\n",
    "    'Jathonathon', 'Ruger', 'Chad', 'Zeltron'], dtype='string')\n",
    "babynames.value_counts().loc[['Chad','Ruger','Zeltron']]\n",
    "#babynames.value_counts()"
   ]
  },
  {
   "cell_type": "markdown",
   "id": "96876443",
   "metadata": {},
   "source": [
    "19. Given, two Series bees and knees, if the ith value of bees is NaN, double the ith value inside knees."
   ]
  },
  {
   "cell_type": "code",
   "execution_count": 6,
   "id": "b3da547a",
   "metadata": {},
   "outputs": [],
   "source": [
    "bees = pd.Series([True, True, False, np.nan, True, False, True, np.nan])\n",
    "knees = pd.Series([5,2,9,1,3,10,5,2], index = [7,0,2,6,3,5,1,4])\n",
    "\n",
    "knees.loc[pd.isna(bees).to_numpy()] *= 2"
   ]
  },
  {
   "cell_type": "markdown",
   "id": "bcc79ea7",
   "metadata": {},
   "source": [
    "After accidentally leaving an ice chest of fish and shrimp in your car for a week while you were on vacation, you’re now in the market for a new vehicle 🚗. Your insurance didn’t cover the loss, so you want to make sure you get a good deal on your new car.\n",
    "\n",
    "Given a Series of car asking_prices and another Series of car fair_prices, determine which cars for sale are a good deal. In other words, identify cars whose asking price is less than their fair price."
   ]
  },
  {
   "cell_type": "code",
   "execution_count": 23,
   "id": "eb6235df",
   "metadata": {},
   "outputs": [
    {
     "name": "stdout",
     "output_type": "stream",
     "text": [
      "0 civic\n",
      "4 mustang\n"
     ]
    }
   ],
   "source": [
    "asking_prices = pd.Series([5000, 7600, 9000, 8500, 7000], \n",
    "        index=['civic', 'civic', 'camry', 'mustang', 'mustang'])\n",
    "\n",
    "fair_prices = {\n",
    "    'civic': 5500,\n",
    "    'mustang': 7500,\n",
    "    'camry': 7500\n",
    "}\n",
    "\n",
    "# Correct: map the index of asking_prices\n",
    "new_prices = pd.Series(asking_prices.index.map(fair_prices), index=asking_prices.index)\n",
    "\n",
    "arr1 = np.array(asking_prices)\n",
    "arr2 = np.array(new_prices)\n",
    "# print(arr1)\n",
    "# print(arr2)\n",
    "\n",
    "sub = arr1 - arr2\n",
    "# print(sub)\n",
    "\n",
    "for i in range (len(sub)):\n",
    "    if sub[i] <= 0:\n",
    "        print(f\"{i} {asking_prices.index[i]}\")\n",
    "        \n",
    "        "
   ]
  },
  {
   "cell_type": "markdown",
   "id": "3deb8efb",
   "metadata": {},
   "source": [
    "You suspect your local grocery’s been price gouging the ground beef. You and some friends decide to track the price of ground beef every day for 10 days. You’ve compiled the data into a Series called beef_prices, whose index represents the day of each recording.\n",
    "For example, beef was priced 4.21 on the first day, 4.46 on the second day, etc.\n",
    "Determine which day had the biggest price increase from the prior day."
   ]
  },
  {
   "cell_type": "code",
   "execution_count": null,
   "id": "9e06c0dd",
   "metadata": {},
   "outputs": [
    {
     "name": "stdout",
     "output_type": "stream",
     "text": [
      "Largest increase: 1.75 from index 4 → 5\n",
      "Value changed from 3.08 to 4.83\n"
     ]
    }
   ],
   "source": [
    "import numpy as np\n",
    "import pandas as pd\n",
    "\n",
    "generator = np.random.default_rng(0)  # This creates a random number generator with a fixed seed 0  \n",
    "beef_prices = pd.Series(\n",
    "    data = np.round(generator.uniform(low=3, high=5, size=10), 2),  # It creates 10 random float values between 3 to 5 and round them to 2 decimal places. \n",
    "    index = generator.choice(10, size=10, replace=False)    # This selects 10 unique random integers from 0 to 9 (no repetition), which are used as the index of the Series.\n",
    ")\n",
    "beef_prices = beef_prices.sort_index()\n",
    "\n",
    "\n",
    "# Step 1: Calculate differences between current and previous value\n",
    "diffs = beef_prices.diff()\n",
    "\n",
    "# Step 2: Find the maximum positive difference (i.e., largest increase)\n",
    "max_increase = diffs.max()\n",
    "\n",
    "# Step 3: Get the index where the max increase occurred\n",
    "max_index = diffs.idxmax()\n",
    "max_index\n",
    "\n",
    "print(f\"Largest increase: {max_increase:.2f} from index {max_index - 1} → {max_index}\")\n",
    "print(f\"Value changed from {beef_prices[max_index - 1]} to {beef_prices[max_index]}\")\n"
   ]
  },
  {
   "cell_type": "code",
   "execution_count": null,
   "id": "64c419cc",
   "metadata": {},
   "outputs": [],
   "source": []
  },
  {
   "cell_type": "code",
   "execution_count": null,
   "id": "ee008c04",
   "metadata": {},
   "outputs": [],
   "source": []
  }
 ],
 "metadata": {
  "kernelspec": {
   "display_name": "Python 3",
   "language": "python",
   "name": "python3"
  },
  "language_info": {
   "codemirror_mode": {
    "name": "ipython",
    "version": 3
   },
   "file_extension": ".py",
   "mimetype": "text/x-python",
   "name": "python",
   "nbconvert_exporter": "python",
   "pygments_lexer": "ipython3",
   "version": "3.11.9"
  }
 },
 "nbformat": 4,
 "nbformat_minor": 5
}
