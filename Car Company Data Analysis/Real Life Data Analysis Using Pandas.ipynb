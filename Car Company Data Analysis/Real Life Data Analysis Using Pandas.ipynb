{
 "cells": [
  {
   "cell_type": "markdown",
   "id": "9229c271",
   "metadata": {},
   "source": [
    "# 📌 Automobile Comapnies Data Analysis Using Numpy and Pandas"
   ]
  },
  {
   "cell_type": "markdown",
   "id": "8cdfe40c",
   "metadata": {},
   "source": [
    "#"
   ]
  },
  {
   "cell_type": "markdown",
   "id": "7c16876f",
   "metadata": {},
   "source": [
    "### ✅ Section 1: Data Loading & Basic Exploration"
   ]
  },
  {
   "cell_type": "markdown",
   "id": "0e558864",
   "metadata": {},
   "source": [
    "1. Load the dataset and display the first 5 rows."
   ]
  },
  {
   "cell_type": "code",
   "execution_count": null,
   "id": "a7fa2679",
   "metadata": {},
   "outputs": [],
   "source": [
    "import pandas as pd\n",
    "import numpy as np\n",
    "df = pd.read_csv(r\"D:\\PYTON PROGRAMMING\\PYTHON FILES\\PANDAS\\PANDAS-MODULE-PRACTICE\\Car Company Data Analysis\\Automobile_data.csv\")\n",
    "df.head(5)"
   ]
  },
  {
   "cell_type": "markdown",
   "id": "ca046d3c",
   "metadata": {},
   "source": [
    "2. Print the number of rows and columns."
   ]
  },
  {
   "cell_type": "code",
   "execution_count": 8,
   "id": "bddfcb9c",
   "metadata": {},
   "outputs": [
    {
     "name": "stdout",
     "output_type": "stream",
     "text": [
      "Rows :  61\n",
      "Columns :  10\n"
     ]
    }
   ],
   "source": [
    "print(\"Rows : \",df.shape[0])\n",
    "print(\"Columns : \",df.shape[1])"
   ]
  },
  {
   "cell_type": "markdown",
   "id": "8b45fdc5",
   "metadata": {},
   "source": [
    "3. Show all column names and their data types."
   ]
  },
  {
   "cell_type": "code",
   "execution_count": null,
   "id": "ceaf9f43",
   "metadata": {},
   "outputs": [],
   "source": [
    "column = df.dtypes\n",
    "print(column)"
   ]
  },
  {
   "cell_type": "markdown",
   "id": "abf46831",
   "metadata": {},
   "source": [
    "4. Display the last 10 rows of the dataset."
   ]
  },
  {
   "cell_type": "code",
   "execution_count": null,
   "id": "eab10b9a",
   "metadata": {},
   "outputs": [],
   "source": [
    "df.tail(10)"
   ]
  },
  {
   "cell_type": "markdown",
   "id": "23c0d0ea",
   "metadata": {},
   "source": [
    "5. Get the basic summary statistics (describe) for numerical columns."
   ]
  },
  {
   "cell_type": "code",
   "execution_count": null,
   "id": "71ae110a",
   "metadata": {},
   "outputs": [],
   "source": [
    "df.info()"
   ]
  },
  {
   "cell_type": "markdown",
   "id": "5b8c8a9a",
   "metadata": {},
   "source": [
    "### ✅ Section 2: Data Cleaning & Handling Missing Values"
   ]
  },
  {
   "cell_type": "markdown",
   "id": "ee815b8c",
   "metadata": {},
   "source": [
    "6. Replace all '?' with np.nan."
   ]
  },
  {
   "cell_type": "code",
   "execution_count": 36,
   "id": "6ff8919e",
   "metadata": {},
   "outputs": [],
   "source": [
    "df.replace(\"?\",np.nan,inplace=True)"
   ]
  },
  {
   "cell_type": "markdown",
   "id": "018a5cad",
   "metadata": {},
   "source": [
    "7. Count total missing values in each column."
   ]
  },
  {
   "cell_type": "code",
   "execution_count": null,
   "id": "ea14c158",
   "metadata": {},
   "outputs": [],
   "source": [
    "missing_values_count = df.isna().sum()\n",
    "print(missing_values_count)"
   ]
  },
  {
   "cell_type": "markdown",
   "id": "1761a642",
   "metadata": {},
   "source": [
    "8. Drop all rows with missing values and print the shape."
   ]
  },
  {
   "cell_type": "code",
   "execution_count": 30,
   "id": "4c88a7d0",
   "metadata": {},
   "outputs": [
    {
     "name": "stdout",
     "output_type": "stream",
     "text": [
      "Before droping the missing value rows, shape :  (61, 10) \n",
      "\n",
      "After droping the missing value rows, shape :  (58, 10)\n"
     ]
    }
   ],
   "source": [
    "print(\"Before droping the missing value rows, shape : \",df.shape,\"\\n\")\n",
    "df.dropna(inplace=True)\n",
    "print(\"After droping the missing value rows, shape : \",df.shape)"
   ]
  },
  {
   "cell_type": "markdown",
   "id": "c450d629",
   "metadata": {},
   "source": [
    "9. Convert the price, horsepower, and average-mileage columns to numeric."
   ]
  },
  {
   "cell_type": "code",
   "execution_count": null,
   "id": "fb5d60e9",
   "metadata": {},
   "outputs": [],
   "source": [
    "df['average-mileage'] = pd.to_numeric(df['average-mileage'], errors='coerce')\n",
    "df['price'] = pd.to_numeric(df['price'], errors='coerce')\n",
    "df['horsepower'] = pd.to_numeric(df['horsepower'], errors='coerce')\n",
    "print(df)\n",
    "print(df.dtypes)\n"
   ]
  },
  {
   "cell_type": "markdown",
   "id": "71a7f69b",
   "metadata": {},
   "source": [
    "10. Print company and price column only."
   ]
  },
  {
   "cell_type": "code",
   "execution_count": null,
   "id": "f6e01251",
   "metadata": {},
   "outputs": [],
   "source": [
    "df[['company','price']]"
   ]
  },
  {
   "cell_type": "markdown",
   "id": "145cd6f5",
   "metadata": {},
   "source": [
    "### ✅ Section 3: Filtering & Conditional Selection"
   ]
  },
  {
   "cell_type": "markdown",
   "id": "755dc458",
   "metadata": {},
   "source": [
    "11. Select all rows where company is 'audi'"
   ]
  },
  {
   "cell_type": "code",
   "execution_count": 52,
   "id": "0e2022b8",
   "metadata": {},
   "outputs": [
    {
     "data": {
      "text/html": [
       "<div>\n",
       "<style scoped>\n",
       "    .dataframe tbody tr th:only-of-type {\n",
       "        vertical-align: middle;\n",
       "    }\n",
       "\n",
       "    .dataframe tbody tr th {\n",
       "        vertical-align: top;\n",
       "    }\n",
       "\n",
       "    .dataframe thead th {\n",
       "        text-align: right;\n",
       "    }\n",
       "</style>\n",
       "<table border=\"1\" class=\"dataframe\">\n",
       "  <thead>\n",
       "    <tr style=\"text-align: right;\">\n",
       "      <th></th>\n",
       "      <th>index</th>\n",
       "      <th>company</th>\n",
       "      <th>body-style</th>\n",
       "      <th>wheel-base</th>\n",
       "      <th>length</th>\n",
       "      <th>engine-type</th>\n",
       "      <th>num-of-cylinders</th>\n",
       "      <th>horsepower</th>\n",
       "      <th>average-mileage</th>\n",
       "      <th>price</th>\n",
       "    </tr>\n",
       "  </thead>\n",
       "  <tbody>\n",
       "    <tr>\n",
       "      <th>3</th>\n",
       "      <td>3</td>\n",
       "      <td>audi</td>\n",
       "      <td>sedan</td>\n",
       "      <td>99.8</td>\n",
       "      <td>176.6</td>\n",
       "      <td>ohc</td>\n",
       "      <td>four</td>\n",
       "      <td>102</td>\n",
       "      <td>24</td>\n",
       "      <td>13950.0</td>\n",
       "    </tr>\n",
       "    <tr>\n",
       "      <th>4</th>\n",
       "      <td>4</td>\n",
       "      <td>audi</td>\n",
       "      <td>sedan</td>\n",
       "      <td>99.4</td>\n",
       "      <td>176.6</td>\n",
       "      <td>ohc</td>\n",
       "      <td>five</td>\n",
       "      <td>115</td>\n",
       "      <td>18</td>\n",
       "      <td>17450.0</td>\n",
       "    </tr>\n",
       "    <tr>\n",
       "      <th>5</th>\n",
       "      <td>5</td>\n",
       "      <td>audi</td>\n",
       "      <td>sedan</td>\n",
       "      <td>99.8</td>\n",
       "      <td>177.3</td>\n",
       "      <td>ohc</td>\n",
       "      <td>five</td>\n",
       "      <td>110</td>\n",
       "      <td>19</td>\n",
       "      <td>15250.0</td>\n",
       "    </tr>\n",
       "    <tr>\n",
       "      <th>6</th>\n",
       "      <td>6</td>\n",
       "      <td>audi</td>\n",
       "      <td>wagon</td>\n",
       "      <td>105.8</td>\n",
       "      <td>192.7</td>\n",
       "      <td>ohc</td>\n",
       "      <td>five</td>\n",
       "      <td>110</td>\n",
       "      <td>19</td>\n",
       "      <td>18920.0</td>\n",
       "    </tr>\n",
       "  </tbody>\n",
       "</table>\n",
       "</div>"
      ],
      "text/plain": [
       "   index company body-style  wheel-base  length engine-type num-of-cylinders  \\\n",
       "3      3    audi      sedan        99.8   176.6         ohc             four   \n",
       "4      4    audi      sedan        99.4   176.6         ohc             five   \n",
       "5      5    audi      sedan        99.8   177.3         ohc             five   \n",
       "6      6    audi      wagon       105.8   192.7         ohc             five   \n",
       "\n",
       "   horsepower  average-mileage    price  \n",
       "3         102               24  13950.0  \n",
       "4         115               18  17450.0  \n",
       "5         110               19  15250.0  \n",
       "6         110               19  18920.0  "
      ]
     },
     "execution_count": 52,
     "metadata": {},
     "output_type": "execute_result"
    }
   ],
   "source": [
    "audi_rows = df[df['company'] == 'audi']\n",
    "audi_rows"
   ]
  },
  {
   "cell_type": "markdown",
   "id": "5297c2d0",
   "metadata": {},
   "source": [
    "12. Filter cars where engine-type is 'ohc'"
   ]
  },
  {
   "cell_type": "code",
   "execution_count": 56,
   "id": "cb2a4490",
   "metadata": {},
   "outputs": [
    {
     "data": {
      "text/plain": [
       "46"
      ]
     },
     "execution_count": 56,
     "metadata": {},
     "output_type": "execute_result"
    }
   ],
   "source": [
    "ohc_engine = df[df['engine-type']=='ohc']\n",
    "ohc_engine.shape[0]"
   ]
  },
  {
   "cell_type": "markdown",
   "id": "27a2d9f7",
   "metadata": {},
   "source": [
    "13. Find all cars with price between 10000 and 15000."
   ]
  },
  {
   "cell_type": "code",
   "execution_count": null,
   "id": "cf164942",
   "metadata": {},
   "outputs": [],
   "source": []
  },
  {
   "cell_type": "markdown",
   "id": "a72b9b2d",
   "metadata": {},
   "source": [
    "3. Print first 4 rows and the last 4 rows of the data file."
   ]
  },
  {
   "cell_type": "code",
   "execution_count": null,
   "id": "2e2adfb3",
   "metadata": {},
   "outputs": [],
   "source": [
    "df.head(4)  #Prints the first 4 rows.\n",
    "df.tail(4)  #Prints the last 4 rows."
   ]
  },
  {
   "cell_type": "markdown",
   "id": "8e5954fb",
   "metadata": {},
   "source": [
    "11. Print all the rows which have atleast one NaN value."
   ]
  },
  {
   "cell_type": "code",
   "execution_count": null,
   "id": "a89c0465",
   "metadata": {},
   "outputs": [],
   "source": [
    "print(df[df.isna().any(axis=1)])"
   ]
  },
  {
   "cell_type": "markdown",
   "id": "e9f3f2fa",
   "metadata": {},
   "source": [
    "12. Remove all the NaN value from the Dataframe."
   ]
  },
  {
   "cell_type": "code",
   "execution_count": 2,
   "id": "24e932d0",
   "metadata": {},
   "outputs": [],
   "source": [
    "#Remove all values here...\n",
    "df.dropna(inplace=True)"
   ]
  },
  {
   "cell_type": "markdown",
   "id": "fe75b961",
   "metadata": {},
   "source": [
    "13. Clean the data by capitalizing the first letter."
   ]
  },
  {
   "cell_type": "code",
   "execution_count": null,
   "id": "601bc8ae",
   "metadata": {},
   "outputs": [],
   "source": [
    "cols = ['company', 'body-style', 'num-of-cylinders']\n",
    "df[cols] = df[cols].apply(lambda x: x.str.strip().str.title())\n",
    "df['engine-type'] = df['engine-type'].str.upper()\n",
    "df.head(5)"
   ]
  },
  {
   "cell_type": "markdown",
   "id": "6770b284",
   "metadata": {},
   "source": [
    "5. Print all the cars from a perticular company which have price over 15000.\n"
   ]
  },
  {
   "cell_type": "code",
   "execution_count": null,
   "id": "c9d456b9",
   "metadata": {},
   "outputs": [],
   "source": [
    "df[(df['company'] == 'Alfa-Romero') & (df['price'] > 15000)]"
   ]
  },
  {
   "cell_type": "markdown",
   "id": "2d413003",
   "metadata": {},
   "source": [
    "6. Change the price of car at row 15 to 12000"
   ]
  },
  {
   "cell_type": "code",
   "execution_count": 4,
   "id": "0e8001e6",
   "metadata": {},
   "outputs": [],
   "source": [
    "df.loc[15,'price'] = 12000"
   ]
  },
  {
   "cell_type": "markdown",
   "id": "75864e5e",
   "metadata": {},
   "source": [
    "7. Sum the entire price column."
   ]
  },
  {
   "cell_type": "code",
   "execution_count": null,
   "id": "6788d210",
   "metadata": {},
   "outputs": [],
   "source": [
    "df.sum()['price']"
   ]
  },
  {
   "cell_type": "markdown",
   "id": "c3935cf8",
   "metadata": {},
   "source": [
    "7. Print average car price of each company."
   ]
  },
  {
   "cell_type": "code",
   "execution_count": null,
   "id": "e5d0a3ae",
   "metadata": {},
   "outputs": [],
   "source": [
    "df.groupby('company')['price'].agg('mean')"
   ]
  },
  {
   "cell_type": "markdown",
   "id": "f633d120",
   "metadata": {},
   "source": [
    "8. Print number of cars from each company."
   ]
  },
  {
   "cell_type": "code",
   "execution_count": null,
   "id": "d31c4ebe",
   "metadata": {},
   "outputs": [],
   "source": [
    "df.groupby('company')['index'].count().sort_values(ascending=False)"
   ]
  },
  {
   "cell_type": "markdown",
   "id": "c7f1d743",
   "metadata": {},
   "source": [
    "9. Print all the car comapny that starts with A."
   ]
  },
  {
   "cell_type": "code",
   "execution_count": null,
   "id": "285ce3dc",
   "metadata": {},
   "outputs": [],
   "source": [
    "print(df[df['company'].str.startswith('a')])\n"
   ]
  },
  {
   "cell_type": "markdown",
   "id": "eb738a23",
   "metadata": {},
   "source": [
    "10. Arrange the data on the basis of price."
   ]
  },
  {
   "cell_type": "code",
   "execution_count": null,
   "id": "bb0942f8",
   "metadata": {},
   "outputs": [],
   "source": [
    "df.sort_values(['price'], ascending = True,inplace=True)    # This will sort the entire data on the basis of price column.\n",
    "# For reseting the index\n",
    "df.reset_index(drop=True, inplace=True)\n",
    "df['index'] = df.index"
   ]
  },
  {
   "cell_type": "markdown",
   "id": "b40ac699",
   "metadata": {},
   "source": [
    "13. Replace a word with another."
   ]
  },
  {
   "cell_type": "code",
   "execution_count": 16,
   "id": "c41c8e1b",
   "metadata": {},
   "outputs": [],
   "source": [
    "df['num-of-cylinders'].replace({'Four': 'Eight'}, inplace=True)"
   ]
  },
  {
   "cell_type": "markdown",
   "id": "a6f4c0b9",
   "metadata": {},
   "source": [
    "14. Increase the price of Eight cylinders engine by 3000."
   ]
  },
  {
   "cell_type": "code",
   "execution_count": null,
   "id": "65ea3764",
   "metadata": {},
   "outputs": [],
   "source": [
    "df['price'] = df.apply(lambda x: x['price'] + 9563 if x['num-of-cylinders'] == 'Eight' else x['price'],axis=1)\n",
    "df"
   ]
  },
  {
   "cell_type": "markdown",
   "id": "41f80eb2",
   "metadata": {},
   "source": [
    "15. Increase the horsepower of the Eight cylinders engine by an amont of 82."
   ]
  },
  {
   "cell_type": "code",
   "execution_count": null,
   "id": "e1a3ed73",
   "metadata": {},
   "outputs": [],
   "source": [
    "df['horsepower'] = df.apply(lambda x : x['horsepower'] + 82 if x['num-of-cylinders'] == 'Eight' else x['horsepower'],axis=1)"
   ]
  },
  {
   "cell_type": "code",
   "execution_count": null,
   "id": "6611c625",
   "metadata": {},
   "outputs": [],
   "source": [
    "df.head(10)"
   ]
  },
  {
   "cell_type": "markdown",
   "id": "9debe633",
   "metadata": {},
   "source": [
    "16. Calculate the average price of eight cylindered engine cars."
   ]
  },
  {
   "cell_type": "code",
   "execution_count": null,
   "id": "91837f4d",
   "metadata": {},
   "outputs": [],
   "source": [
    "df[df['num-of-cylinders'] == 'Eight']['price'].agg('mean')"
   ]
  },
  {
   "cell_type": "markdown",
   "id": "606ff984",
   "metadata": {},
   "source": [
    "17. Calulate the average price for each number of cylinders type car."
   ]
  },
  {
   "cell_type": "code",
   "execution_count": null,
   "id": "9fc64b6c",
   "metadata": {},
   "outputs": [],
   "source": [
    "df.groupby('num-of-cylinders')['price'].agg('mean').sort_values(ascending=False)"
   ]
  },
  {
   "cell_type": "markdown",
   "id": "7a68b4a7",
   "metadata": {},
   "source": [
    "18. Print all the cars with rotor engine."
   ]
  },
  {
   "cell_type": "code",
   "execution_count": null,
   "id": "14b43cc9",
   "metadata": {},
   "outputs": [],
   "source": [
    "df[df['engine-type'] == 'ROTOR']"
   ]
  },
  {
   "cell_type": "markdown",
   "id": "fa159f96",
   "metadata": {},
   "source": [
    "19. Convert Rotor engine to Electric."
   ]
  },
  {
   "cell_type": "code",
   "execution_count": null,
   "id": "a2fe1701",
   "metadata": {},
   "outputs": [],
   "source": [
    "df['engine-type'].replace({'ROTOR':'ELECTRIC'},inplace=True)"
   ]
  },
  {
   "cell_type": "markdown",
   "id": "90740395",
   "metadata": {},
   "source": [
    "20. Increase the power of that Electric engine by 20 units."
   ]
  },
  {
   "cell_type": "code",
   "execution_count": null,
   "id": "86ffb87e",
   "metadata": {},
   "outputs": [],
   "source": [
    "df['horsepower'] = df.apply(lambda row: row['horsepower'] + 20 if row['engine-type'] == 'ELECTRIC' else row['horsepower'], axis = 1)"
   ]
  },
  {
   "cell_type": "markdown",
   "id": "cbc5f60f",
   "metadata": {},
   "source": [
    "21. Increase the price of the electric car by 6945."
   ]
  },
  {
   "cell_type": "code",
   "execution_count": 23,
   "id": "176436d4",
   "metadata": {},
   "outputs": [],
   "source": [
    "df['price'] = df.apply(lambda row: row['price'] + 6945 if row['engine-type'] == \"ELCTRIC\" else row['price'], axis=1)"
   ]
  },
  {
   "cell_type": "markdown",
   "id": "69c9e49f",
   "metadata": {},
   "source": [
    "22. Add electric to the car brand suffix."
   ]
  },
  {
   "cell_type": "code",
   "execution_count": 24,
   "id": "356ae543",
   "metadata": {},
   "outputs": [],
   "source": [
    "df['company'] = df.apply(lambda row : row['company'] + 'Elcetric' if row['engine-type'] == 'ELECTRIC' else row['company'], axis = 1)"
   ]
  },
  {
   "cell_type": "markdown",
   "id": "7c0dd924",
   "metadata": {},
   "source": [
    "22. Print all the cars of Porsche."
   ]
  },
  {
   "cell_type": "code",
   "execution_count": null,
   "id": "a62b609b",
   "metadata": {},
   "outputs": [],
   "source": [
    "df.loc[60, 'price'] = 45000\n",
    "df_porsche = df[df['company'].str.strip().str.lower() == \"porsche\"]\n",
    "\n",
    "porsche_avg = df[df['company'].str.strip().str.lower() == \"porsche\"]['price'].agg('mean')\n",
    "\n",
    "power_avg = df.groupby('company')['horsepower'].agg('mean').sort_values(ascending=0)\n",
    "power_avg"
   ]
  }
 ],
 "metadata": {
  "kernelspec": {
   "display_name": "Python 3",
   "language": "python",
   "name": "python3"
  },
  "language_info": {
   "codemirror_mode": {
    "name": "ipython",
    "version": 3
   },
   "file_extension": ".py",
   "mimetype": "text/x-python",
   "name": "python",
   "nbconvert_exporter": "python",
   "pygments_lexer": "ipython3",
   "version": "3.11.9"
  }
 },
 "nbformat": 4,
 "nbformat_minor": 5
}
