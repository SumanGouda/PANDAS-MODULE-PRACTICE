{
 "cells": [
  {
   "cell_type": "code",
   "execution_count": null,
   "id": "4dcdf318",
   "metadata": {},
   "outputs": [],
   "source": [
    "df.isnull().sum()      #Calculates the number of null values in each column.\n",
    "#df.columns[df.isnull().any()]     #This will return all the columns name which have null values in it.\n",
    "#df.isnull().any(axis = 0).sum()    #This will return number of rows which have atleast one NaN value in it.  [axis = 1 (Column wise)  & axis = 0 (Row wise)]"
   ]
  },
  {
   "cell_type": "markdown",
   "id": "877a5f19",
   "metadata": {},
   "source": [
    "## SOME IMP SYNTAX"
   ]
  },
  {
   "cell_type": "markdown",
   "id": "235530b8",
   "metadata": {},
   "source": [
    ".unstack(fill_value=0),\n",
    "Purpose: Reshapes the MultiIndex Series into a pivot table (DataFrame) where:\n",
    "\n",
    "1. Rows: country (first grouping column).\n",
    "\n",
    "2. Columns: type (second grouping column).\n",
    "\n",
    "3. Values: The counts from .size().\n",
    "\n",
    "fill_value=0: If a (country, type) combination doesn’t exist (e.g., no TV shows in a country), it fills the missing value with 0."
   ]
  },
  {
   "cell_type": "code",
   "execution_count": null,
   "id": "73686e9c",
   "metadata": {},
   "outputs": [],
   "source": []
  }
 ],
 "metadata": {
  "language_info": {
   "name": "python"
  }
 },
 "nbformat": 4,
 "nbformat_minor": 5
}
