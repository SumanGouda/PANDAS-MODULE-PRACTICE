{
 "cells": [
  {
   "cell_type": "markdown",
   "id": "3b13858e",
   "metadata": {},
   "source": [
    "1. Import the data file from your PC."
   ]
  },
  {
   "cell_type": "code",
   "execution_count": null,
   "id": "b46d20d6",
   "metadata": {},
   "outputs": [],
   "source": [
    "import pandas as pd\n",
    "import numpy as np\n",
    "df = pd.read_csv(r\"D:\\PYTON PROGRAMMING\\PYTHON FILES\\PANDAS\\PANDAS-MODULE-PRACTICE\\Automobile_data.csv\")"
   ]
  },
  {
   "cell_type": "markdown",
   "id": "a72b9b2d",
   "metadata": {},
   "source": [
    "3. Print first 4 rows and the last 4 rows of the data file."
   ]
  },
  {
   "cell_type": "code",
   "execution_count": null,
   "id": "2e2adfb3",
   "metadata": {},
   "outputs": [],
   "source": [
    "df.head(4)  #Prints the first 4 rows.\n",
    "df.tail(4)  #Prints the last 4 rows."
   ]
  },
  {
   "cell_type": "markdown",
   "id": "71a7f69b",
   "metadata": {},
   "source": [
    "4. Print company and price column only."
   ]
  },
  {
   "cell_type": "code",
   "execution_count": null,
   "id": "f6e01251",
   "metadata": {},
   "outputs": [],
   "source": [
    "df[['company','price']]"
   ]
  },
  {
   "cell_type": "markdown",
   "id": "8e5954fb",
   "metadata": {},
   "source": [
    "11. Print all the rows which have atleast one NaN value."
   ]
  },
  {
   "cell_type": "code",
   "execution_count": null,
   "id": "a89c0465",
   "metadata": {},
   "outputs": [],
   "source": [
    "print(df[df.isna().any(axis=1)])"
   ]
  },
  {
   "cell_type": "markdown",
   "id": "e9f3f2fa",
   "metadata": {},
   "source": [
    "12. Remove all the NaN value from the Dataframe."
   ]
  },
  {
   "cell_type": "code",
   "execution_count": 2,
   "id": "24e932d0",
   "metadata": {},
   "outputs": [],
   "source": [
    "#Remove all values here...\n",
    "df.dropna(inplace=True)"
   ]
  },
  {
   "cell_type": "markdown",
   "id": "fe75b961",
   "metadata": {},
   "source": [
    "13. Clean the data by capitalizing the first letter."
   ]
  },
  {
   "cell_type": "code",
   "execution_count": 3,
   "id": "601bc8ae",
   "metadata": {},
   "outputs": [
    {
     "data": {
      "text/html": [
       "<div>\n",
       "<style scoped>\n",
       "    .dataframe tbody tr th:only-of-type {\n",
       "        vertical-align: middle;\n",
       "    }\n",
       "\n",
       "    .dataframe tbody tr th {\n",
       "        vertical-align: top;\n",
       "    }\n",
       "\n",
       "    .dataframe thead th {\n",
       "        text-align: right;\n",
       "    }\n",
       "</style>\n",
       "<table border=\"1\" class=\"dataframe\">\n",
       "  <thead>\n",
       "    <tr style=\"text-align: right;\">\n",
       "      <th></th>\n",
       "      <th>index</th>\n",
       "      <th>company</th>\n",
       "      <th>body-style</th>\n",
       "      <th>wheel-base</th>\n",
       "      <th>length</th>\n",
       "      <th>engine-type</th>\n",
       "      <th>num-of-cylinders</th>\n",
       "      <th>horsepower</th>\n",
       "      <th>average-mileage</th>\n",
       "      <th>price</th>\n",
       "    </tr>\n",
       "  </thead>\n",
       "  <tbody>\n",
       "    <tr>\n",
       "      <th>0</th>\n",
       "      <td>0</td>\n",
       "      <td>Alfa-Romero</td>\n",
       "      <td>Convertible</td>\n",
       "      <td>88.6</td>\n",
       "      <td>168.8</td>\n",
       "      <td>DOHC</td>\n",
       "      <td>Four</td>\n",
       "      <td>111</td>\n",
       "      <td>21</td>\n",
       "      <td>13495.0</td>\n",
       "    </tr>\n",
       "    <tr>\n",
       "      <th>1</th>\n",
       "      <td>1</td>\n",
       "      <td>Alfa-Romero</td>\n",
       "      <td>Convertible</td>\n",
       "      <td>88.6</td>\n",
       "      <td>168.8</td>\n",
       "      <td>DOHC</td>\n",
       "      <td>Four</td>\n",
       "      <td>111</td>\n",
       "      <td>21</td>\n",
       "      <td>16500.0</td>\n",
       "    </tr>\n",
       "    <tr>\n",
       "      <th>2</th>\n",
       "      <td>2</td>\n",
       "      <td>Alfa-Romero</td>\n",
       "      <td>Hatchback</td>\n",
       "      <td>94.5</td>\n",
       "      <td>171.2</td>\n",
       "      <td>OHCV</td>\n",
       "      <td>Six</td>\n",
       "      <td>154</td>\n",
       "      <td>19</td>\n",
       "      <td>16500.0</td>\n",
       "    </tr>\n",
       "    <tr>\n",
       "      <th>3</th>\n",
       "      <td>3</td>\n",
       "      <td>Audi</td>\n",
       "      <td>Sedan</td>\n",
       "      <td>99.8</td>\n",
       "      <td>176.6</td>\n",
       "      <td>OHC</td>\n",
       "      <td>Four</td>\n",
       "      <td>102</td>\n",
       "      <td>24</td>\n",
       "      <td>13950.0</td>\n",
       "    </tr>\n",
       "    <tr>\n",
       "      <th>4</th>\n",
       "      <td>4</td>\n",
       "      <td>Audi</td>\n",
       "      <td>Sedan</td>\n",
       "      <td>99.4</td>\n",
       "      <td>176.6</td>\n",
       "      <td>OHC</td>\n",
       "      <td>Five</td>\n",
       "      <td>115</td>\n",
       "      <td>18</td>\n",
       "      <td>17450.0</td>\n",
       "    </tr>\n",
       "  </tbody>\n",
       "</table>\n",
       "</div>"
      ],
      "text/plain": [
       "   index      company   body-style  wheel-base  length engine-type  \\\n",
       "0      0  Alfa-Romero  Convertible        88.6   168.8        DOHC   \n",
       "1      1  Alfa-Romero  Convertible        88.6   168.8        DOHC   \n",
       "2      2  Alfa-Romero    Hatchback        94.5   171.2        OHCV   \n",
       "3      3         Audi        Sedan        99.8   176.6         OHC   \n",
       "4      4         Audi        Sedan        99.4   176.6         OHC   \n",
       "\n",
       "  num-of-cylinders  horsepower  average-mileage    price  \n",
       "0             Four         111               21  13495.0  \n",
       "1             Four         111               21  16500.0  \n",
       "2              Six         154               19  16500.0  \n",
       "3             Four         102               24  13950.0  \n",
       "4             Five         115               18  17450.0  "
      ]
     },
     "execution_count": 3,
     "metadata": {},
     "output_type": "execute_result"
    }
   ],
   "source": [
    "cols = ['company', 'body-style', 'num-of-cylinders', 'engine-type']\n",
    "df[cols] = df[cols].apply(lambda x: x.str.strip().str.title())\n",
    "df['engine-type'] = df['engine-type'].str.upper()\n",
    "df.head(5)"
   ]
  },
  {
   "cell_type": "markdown",
   "id": "6770b284",
   "metadata": {},
   "source": [
    "5. Print all the cars from a perticular company which have price over 15000.\n"
   ]
  },
  {
   "cell_type": "code",
   "execution_count": null,
   "id": "c9d456b9",
   "metadata": {},
   "outputs": [],
   "source": [
    "df[(df['company'] == 'Alfa-Romero') & (df['price'] > 15000)]"
   ]
  },
  {
   "cell_type": "markdown",
   "id": "2d413003",
   "metadata": {},
   "source": [
    "6. Change the price of car at row 15 to 12000"
   ]
  },
  {
   "cell_type": "code",
   "execution_count": 4,
   "id": "0e8001e6",
   "metadata": {},
   "outputs": [],
   "source": [
    "df.loc[15,'price'] = 12000"
   ]
  },
  {
   "cell_type": "markdown",
   "id": "75864e5e",
   "metadata": {},
   "source": [
    "7. Sum the entire price column."
   ]
  },
  {
   "cell_type": "code",
   "execution_count": null,
   "id": "6788d210",
   "metadata": {},
   "outputs": [],
   "source": [
    "df.sum()['price']"
   ]
  },
  {
   "cell_type": "markdown",
   "id": "c3935cf8",
   "metadata": {},
   "source": [
    "7. Print average car price of each company."
   ]
  },
  {
   "cell_type": "code",
   "execution_count": null,
   "id": "e5d0a3ae",
   "metadata": {},
   "outputs": [],
   "source": [
    "df.groupby('company')['price'].agg('mean')"
   ]
  },
  {
   "cell_type": "markdown",
   "id": "f633d120",
   "metadata": {},
   "source": [
    "8. Print number of cars from each company."
   ]
  },
  {
   "cell_type": "code",
   "execution_count": null,
   "id": "d31c4ebe",
   "metadata": {},
   "outputs": [],
   "source": [
    "df.groupby('company')['index'].count().sort_values(ascending=True)"
   ]
  },
  {
   "cell_type": "markdown",
   "id": "c7f1d743",
   "metadata": {},
   "source": [
    "9. Print all the car comapny that starts with A."
   ]
  },
  {
   "cell_type": "code",
   "execution_count": null,
   "id": "285ce3dc",
   "metadata": {},
   "outputs": [],
   "source": [
    "print(df[df['company'].str.startswith('a')])\n"
   ]
  },
  {
   "cell_type": "markdown",
   "id": "eb738a23",
   "metadata": {},
   "source": [
    "10. Arrange the data on the basis of price."
   ]
  },
  {
   "cell_type": "code",
   "execution_count": 10,
   "id": "bb0942f8",
   "metadata": {},
   "outputs": [],
   "source": [
    "df.sort_values(['price'], ascending = True,inplace=True)\n",
    "df.reset_index(drop=True, inplace=True)\n",
    "df['index'] = df.index"
   ]
  },
  {
   "cell_type": "markdown",
   "id": "b40ac699",
   "metadata": {},
   "source": [
    "13. Replace a word with another."
   ]
  },
  {
   "cell_type": "code",
   "execution_count": null,
   "id": "c41c8e1b",
   "metadata": {},
   "outputs": [],
   "source": [
    "data = df['num-of-cylinders'].replace({'Four': 'Eight'}, inplace=True)"
   ]
  },
  {
   "cell_type": "markdown",
   "id": "a6f4c0b9",
   "metadata": {},
   "source": [
    "14. Increase the price of Eight cylinders engine by 3000."
   ]
  },
  {
   "cell_type": "code",
   "execution_count": null,
   "id": "65ea3764",
   "metadata": {},
   "outputs": [],
   "source": [
    "def inc_price(row):\n",
    "    if row['num-of-cylinders'] == 'Eight':\n",
    "        row['price'] += 9563\n",
    "    return row['price']\n",
    "    \n",
    "df['price'] = df.apply(inc_price, axis=1)"
   ]
  },
  {
   "cell_type": "markdown",
   "id": "41f80eb2",
   "metadata": {},
   "source": [
    "15. Increase the horsepower of the Eight cylinders engine by an amont of 82."
   ]
  },
  {
   "cell_type": "code",
   "execution_count": 13,
   "id": "e1a3ed73",
   "metadata": {},
   "outputs": [],
   "source": [
    "def inc_hp(row):\n",
    "    if row['num-of-cylinders'] == 'Eight':\n",
    "        row['horsepower'] += 82\n",
    "    return row['horsepower']\n",
    "\n",
    "df['horsepower'] = df.apply(inc_hp, axis=1)"
   ]
  },
  {
   "cell_type": "code",
   "execution_count": null,
   "id": "6611c625",
   "metadata": {},
   "outputs": [],
   "source": [
    "df.head(10)"
   ]
  },
  {
   "cell_type": "markdown",
   "id": "9debe633",
   "metadata": {},
   "source": [
    "16. Calculate the average price of eight cylindered engine cars."
   ]
  },
  {
   "cell_type": "code",
   "execution_count": null,
   "id": "91837f4d",
   "metadata": {},
   "outputs": [],
   "source": [
    "df[df['num-of-cylinders'] == 'Eight']['price'].agg('mean')"
   ]
  },
  {
   "cell_type": "markdown",
   "id": "606ff984",
   "metadata": {},
   "source": [
    "17. Calulate the average price for each number of cylinders type car."
   ]
  },
  {
   "cell_type": "code",
   "execution_count": null,
   "id": "9fc64b6c",
   "metadata": {},
   "outputs": [],
   "source": [
    "df.groupby('num-of-cylinders')['price'].agg('mean')"
   ]
  },
  {
   "cell_type": "markdown",
   "id": "7a68b4a7",
   "metadata": {},
   "source": [
    "18. Print all the cars with rotor engine."
   ]
  },
  {
   "cell_type": "code",
   "execution_count": null,
   "id": "14b43cc9",
   "metadata": {},
   "outputs": [],
   "source": [
    "df[df['engine-type'] == 'ROTOR']"
   ]
  },
  {
   "cell_type": "markdown",
   "id": "fa159f96",
   "metadata": {},
   "source": [
    "19. Convert Rotor engine to Electric."
   ]
  },
  {
   "cell_type": "code",
   "execution_count": null,
   "id": "a2fe1701",
   "metadata": {},
   "outputs": [],
   "source": [
    "df['engine-type'].replace({'ROTOR':'ELECTRIC'},inplace=True)"
   ]
  },
  {
   "cell_type": "markdown",
   "id": "90740395",
   "metadata": {},
   "source": [
    "20. Increase the power of that Electric engine by 20 units."
   ]
  },
  {
   "cell_type": "code",
   "execution_count": null,
   "id": "86ffb87e",
   "metadata": {},
   "outputs": [],
   "source": [
    "df['horsepower'] = df.apply(lambda row: row['horsepower'] + 20 if row['engine-type'] == 'ELECTRIC' else row['horsepower'], axis = 1)"
   ]
  },
  {
   "cell_type": "markdown",
   "id": "cbc5f60f",
   "metadata": {},
   "source": [
    "21. Increase the price of the electric car by 6945."
   ]
  },
  {
   "cell_type": "code",
   "execution_count": 23,
   "id": "176436d4",
   "metadata": {},
   "outputs": [],
   "source": [
    "df['price'] = df.apply(lambda row: row['price'] + 6945 if row['engine-type'] == \"ELCTRIC\" else row['price'], axis=1)"
   ]
  },
  {
   "cell_type": "markdown",
   "id": "69c9e49f",
   "metadata": {},
   "source": [
    "22. Add electric to the car brand suffix."
   ]
  },
  {
   "cell_type": "code",
   "execution_count": 24,
   "id": "356ae543",
   "metadata": {},
   "outputs": [],
   "source": [
    "df['company'] = df.apply(lambda row : row['company'] + 'Elcetric' if row['engine-type'] == 'ELECTRIC' else row['company'], axis = 1)"
   ]
  },
  {
   "cell_type": "markdown",
   "id": "7d23dfae",
   "metadata": {},
   "source": [
    "# Filter Out value, if the same exist just before it.\n"
   ]
  },
  {
   "cell_type": "code",
   "execution_count": null,
   "id": "f21649f6",
   "metadata": {},
   "outputs": [],
   "source": [
    "a = pd.DataFrame({'A' : [1,1,2,3,2,3,4,5,5,5,6,7,7]}) \n",
    "my_list = a['A'].tolist()       #This will convert the dataframe into a list.\n",
    "new_list = [my_list[0]]\n",
    "\n",
    "for i in range (1,len(my_list)):\n",
    "    if my_list[i] != my_list[i-1]:\n",
    "        new_list.append(my_list[i])\n",
    "\n",
    "a = pd.DataFrame(new_list, columns=['A'])       #This will again convert the list into dataframe.\n",
    "a"
   ]
  },
  {
   "cell_type": "markdown",
   "id": "fed92589",
   "metadata": {},
   "source": [
    "15. How do you subtract the row mean from each element in the row"
   ]
  },
  {
   "cell_type": "code",
   "execution_count": null,
   "id": "81ac6edc",
   "metadata": {},
   "outputs": [],
   "source": [
    "b = pd.DataFrame(np.random.random(size=(5,3)))   #creates a table of 5 row and 3 columns.\n",
    "b.mean(axis=1)  #Calculates the mean of the values in the table along the rows(Axis = 1).\n",
    "print(b - b.mean())"
   ]
  },
  {
   "cell_type": "markdown",
   "id": "c549273d",
   "metadata": {},
   "source": [
    "16. Suppose you have a data frame of 10 columns and 5 rows, Then print which column has the smallest sum."
   ]
  },
  {
   "cell_type": "code",
   "execution_count": null,
   "id": "24237c70",
   "metadata": {},
   "outputs": [],
   "source": [
    "r = pd.DataFrame(np.random.random(size=(5,10)),columns=list('abcdefghij'))\n",
    "r.sum(axis=0).idxmin()"
   ]
  },
  {
   "cell_type": "markdown",
   "id": "196dae2e",
   "metadata": {},
   "source": [
    "17. How do you count how many unique rows a DataFrame has? "
   ]
  },
  {
   "cell_type": "code",
   "execution_count": null,
   "id": "17c1acdc",
   "metadata": {},
   "outputs": [],
   "source": [
    "df = pd.DataFrame(np.random.randint(0,2,size=(10,3)),index=list('abcdefghij'))\n",
    "print(df)\n",
    "nums = df.values.tolist()\n",
    "unique_value = set(tuple(num) for num in nums)\n",
    "unique_value_list = list(unique_value)\n",
    "print(len(unique_value))\n",
    "    "
   ]
  },
  {
   "cell_type": "code",
   "execution_count": null,
   "id": "17699761",
   "metadata": {},
   "outputs": [],
   "source": []
  },
  {
   "cell_type": "code",
   "execution_count": null,
   "id": "b3da547a",
   "metadata": {},
   "outputs": [],
   "source": []
  }
 ],
 "metadata": {
  "kernelspec": {
   "display_name": "Python 3",
   "language": "python",
   "name": "python3"
  },
  "language_info": {
   "codemirror_mode": {
    "name": "ipython",
    "version": 3
   },
   "file_extension": ".py",
   "mimetype": "text/x-python",
   "name": "python",
   "nbconvert_exporter": "python",
   "pygments_lexer": "ipython3",
   "version": "3.11.9"
  }
 },
 "nbformat": 4,
 "nbformat_minor": 5
}
