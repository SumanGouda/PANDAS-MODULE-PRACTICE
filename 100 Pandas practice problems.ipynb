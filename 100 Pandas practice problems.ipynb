{
 "cells": [
  {
   "cell_type": "markdown",
   "id": "3b13858e",
   "metadata": {},
   "source": [
    "1. Import the data file from your PC."
   ]
  },
  {
   "cell_type": "code",
   "execution_count": 3,
   "id": "b46d20d6",
   "metadata": {},
   "outputs": [],
   "source": [
    "import pandas as pd\n",
    "import numpy as np\n",
    "df = pd.read_csv(r\"D:\\PYTON PROGRAMMING\\PYTHON FILES\\PANDAS\\Automobile_data.csv\")\n"
   ]
  },
  {
   "cell_type": "markdown",
   "id": "8e06700b",
   "metadata": {},
   "source": [
    "2. Print the data file."
   ]
  },
  {
   "cell_type": "code",
   "execution_count": null,
   "id": "57488f5c",
   "metadata": {},
   "outputs": [],
   "source": [
    "print(df.info())"
   ]
  },
  {
   "cell_type": "markdown",
   "id": "a72b9b2d",
   "metadata": {},
   "source": [
    "3. Print first 4 rows and the last 4 rows of the data file.|"
   ]
  },
  {
   "cell_type": "code",
   "execution_count": null,
   "id": "2e2adfb3",
   "metadata": {},
   "outputs": [],
   "source": [
    "df.head(4)  #Prints the first 4 rows.\n",
    "df.tail(4)  #Prints the last 4 rows."
   ]
  },
  {
   "cell_type": "markdown",
   "id": "71a7f69b",
   "metadata": {},
   "source": [
    "4. Print company and price column only."
   ]
  },
  {
   "cell_type": "code",
   "execution_count": null,
   "id": "f6e01251",
   "metadata": {},
   "outputs": [],
   "source": [
    "df[['company','price']]"
   ]
  },
  {
   "cell_type": "markdown",
   "id": "6770b284",
   "metadata": {},
   "source": [
    "5. Print all the cars from a perticular company which have price over 15000.\n"
   ]
  },
  {
   "cell_type": "code",
   "execution_count": null,
   "id": "c9d456b9",
   "metadata": {},
   "outputs": [],
   "source": [
    "df[(df['company'] == 'alfa-romero') & (df['price'] > 15000)]"
   ]
  },
  {
   "cell_type": "markdown",
   "id": "2d413003",
   "metadata": {},
   "source": [
    "6. Change the price of car at row 15 to 12000"
   ]
  },
  {
   "cell_type": "code",
   "execution_count": null,
   "id": "0e8001e6",
   "metadata": {},
   "outputs": [],
   "source": [
    "df.loc[15,'price'] = 12000\n",
    "print(df.loc[15])"
   ]
  },
  {
   "cell_type": "markdown",
   "id": "75864e5e",
   "metadata": {},
   "source": [
    "7. Sum the entire price column."
   ]
  },
  {
   "cell_type": "code",
   "execution_count": 60,
   "id": "6788d210",
   "metadata": {},
   "outputs": [
    {
     "name": "stdout",
     "output_type": "stream",
     "text": [
      "897871.0\n"
     ]
    }
   ],
   "source": [
    "print(df.sum()['price'])"
   ]
  },
  {
   "cell_type": "markdown",
   "id": "c3935cf8",
   "metadata": {},
   "source": [
    "7. Print average car price of a company."
   ]
  },
  {
   "cell_type": "code",
   "execution_count": null,
   "id": "e5d0a3ae",
   "metadata": {},
   "outputs": [],
   "source": [
    "df.groupby('company')['price'].agg('mean')"
   ]
  },
  {
   "cell_type": "markdown",
   "id": "f633d120",
   "metadata": {},
   "source": [
    "8. Print number of cars from each company."
   ]
  },
  {
   "cell_type": "code",
   "execution_count": null,
   "id": "d31c4ebe",
   "metadata": {},
   "outputs": [],
   "source": [
    "df.groupby('company')['index'].count()\n"
   ]
  },
  {
   "cell_type": "markdown",
   "id": "c7f1d743",
   "metadata": {},
   "source": [
    "9. Print all the car comapny that starts with A."
   ]
  },
  {
   "cell_type": "code",
   "execution_count": null,
   "id": "285ce3dc",
   "metadata": {},
   "outputs": [],
   "source": [
    "print(df[df['company'].str.startswith('a')])\n"
   ]
  },
  {
   "cell_type": "markdown",
   "id": "eb738a23",
   "metadata": {},
   "source": [
    "10. Arrange the data on the basis of price."
   ]
  },
  {
   "cell_type": "code",
   "execution_count": null,
   "id": "bb0942f8",
   "metadata": {},
   "outputs": [],
   "source": [
    "df.sort_values(['price'], ascending=[0])"
   ]
  },
  {
   "cell_type": "markdown",
   "id": "8e5954fb",
   "metadata": {},
   "source": [
    "11. Print all the rows which have atleast one NaN value."
   ]
  },
  {
   "cell_type": "code",
   "execution_count": null,
   "id": "a89c0465",
   "metadata": {},
   "outputs": [],
   "source": [
    "print(df[df.isna().any(axis=1)])"
   ]
  },
  {
   "cell_type": "markdown",
   "id": "e9f3f2fa",
   "metadata": {},
   "source": [
    "12. Remove all the NaN value from the Dataframe."
   ]
  },
  {
   "cell_type": "code",
   "execution_count": 1,
   "id": "24e932d0",
   "metadata": {},
   "outputs": [],
   "source": [
    "#Remove all values here..."
   ]
  },
  {
   "cell_type": "markdown",
   "id": "b40ac699",
   "metadata": {},
   "source": [
    "13. Replace a word with another."
   ]
  },
  {
   "cell_type": "code",
   "execution_count": 2,
   "id": "c41c8e1b",
   "metadata": {},
   "outputs": [
    {
     "ename": "NameError",
     "evalue": "name 'df' is not defined",
     "output_type": "error",
     "traceback": [
      "\u001b[31m---------------------------------------------------------------------------\u001b[39m",
      "\u001b[31mNameError\u001b[39m                                 Traceback (most recent call last)",
      "\u001b[36mCell\u001b[39m\u001b[36m \u001b[39m\u001b[32mIn[2]\u001b[39m\u001b[32m, line 1\u001b[39m\n\u001b[32m----> \u001b[39m\u001b[32m1\u001b[39m df[\u001b[33m'\u001b[39m\u001b[33mnum-of-cylinders\u001b[39m\u001b[33m'\u001b[39m] = \u001b[43mdf\u001b[49m[\u001b[33m'\u001b[39m\u001b[33mnum-of-cylinders\u001b[39m\u001b[33m'\u001b[39m].replace({\u001b[33m'\u001b[39m\u001b[33mfour\u001b[39m\u001b[33m'\u001b[39m: \u001b[33m'\u001b[39m\u001b[33meight\u001b[39m\u001b[33m'\u001b[39m}, inplace=\u001b[38;5;28;01mFalse\u001b[39;00m)\n\u001b[32m      2\u001b[39m \u001b[38;5;28mprint\u001b[39m(df[\u001b[33m'\u001b[39m\u001b[33mnum-of-cylinders\u001b[39m\u001b[33m'\u001b[39m])\n",
      "\u001b[31mNameError\u001b[39m: name 'df' is not defined"
     ]
    }
   ],
   "source": [
    "df['num-of-cylinders'] = df['num-of-cylinders'].replace({'four': 'eight'}, inplace=False)\n",
    "print(df['num-of-cylinders'])"
   ]
  },
  {
   "cell_type": "markdown",
   "id": "7d23dfae",
   "metadata": {},
   "source": [
    "14. Filter Out value if the same exist just before it.\n"
   ]
  },
  {
   "cell_type": "code",
   "execution_count": null,
   "id": "f21649f6",
   "metadata": {},
   "outputs": [],
   "source": [
    "a = pd.DataFrame({'A' : [1,1,2,3,2,3,4,5,5,5,6,7,7]}) \n",
    "my_list = a['A'].tolist()       #This will convert the dataframe into a list.\n",
    "new_list = [my_list[0]]\n",
    "\n",
    "for i in range (1,len(my_list)):\n",
    "    if my_list[i] != my_list[i-1]:\n",
    "        new_list.append(my_list[i])\n",
    "\n",
    "a = pd.DataFrame(new_list, columns=['A'])       #This will again convert the list into dataframe.\n",
    "a"
   ]
  },
  {
   "cell_type": "markdown",
   "id": "fed92589",
   "metadata": {},
   "source": [
    "15. How do you subtract the row mean from each element in the row"
   ]
  },
  {
   "cell_type": "code",
   "execution_count": null,
   "id": "81ac6edc",
   "metadata": {},
   "outputs": [],
   "source": [
    "b = pd.DataFrame(np.random.random(size=(5,3)))   #creates a table of 5 row and 3 columns.\n",
    "b.mean(axis=1)  #Calculates the mean of the values in the table along the rows(Axis = 1).\n",
    "print(b - b.mean())"
   ]
  },
  {
   "cell_type": "markdown",
   "id": "c549273d",
   "metadata": {},
   "source": [
    "16. Suppose you have a data frame of 10 columns and 5 rows, Then print which column has the smallest sum."
   ]
  },
  {
   "cell_type": "code",
   "execution_count": 12,
   "id": "24237c70",
   "metadata": {},
   "outputs": [
    {
     "data": {
      "text/plain": [
       "'a'"
      ]
     },
     "execution_count": 12,
     "metadata": {},
     "output_type": "execute_result"
    }
   ],
   "source": [
    "r = pd.DataFrame(np.random.random(size=(5,10)),columns=list('abcdefghij'))\n",
    "r.sum(axis=0).idxmin()"
   ]
  },
  {
   "cell_type": "markdown",
   "id": "196dae2e",
   "metadata": {},
   "source": [
    "17. How do you count how many unique rows a DataFrame has? "
   ]
  },
  {
   "cell_type": "code",
   "execution_count": null,
   "id": "17c1acdc",
   "metadata": {},
   "outputs": [],
   "source": [
    "df = pd.DataFrame(np.random.randint(0,2,size=(10,3)),index=list('abcdefghij'))\n",
    "print(df)\n",
    "nums = df.values.tolist()\n",
    "unique_value = set(tuple(num) for num in nums)\n",
    "unique_value_list = list(unique_value)\n",
    "print(len(unique_value))\n",
    "    "
   ]
  },
  {
   "cell_type": "code",
   "execution_count": null,
   "id": "17699761",
   "metadata": {},
   "outputs": [],
   "source": []
  },
  {
   "cell_type": "code",
   "execution_count": null,
   "id": "b3da547a",
   "metadata": {},
   "outputs": [],
   "source": []
  }
 ],
 "metadata": {
  "kernelspec": {
   "display_name": "Python 3",
   "language": "python",
   "name": "python3"
  },
  "language_info": {
   "codemirror_mode": {
    "name": "ipython",
    "version": 3
   },
   "file_extension": ".py",
   "mimetype": "text/x-python",
   "name": "python",
   "nbconvert_exporter": "python",
   "pygments_lexer": "ipython3",
   "version": "3.11.9"
  }
 },
 "nbformat": 4,
 "nbformat_minor": 5
}
